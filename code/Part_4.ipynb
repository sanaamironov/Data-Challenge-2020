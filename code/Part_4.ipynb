{
 "cells": [
  {
   "cell_type": "markdown",
   "metadata": {
    "colab_type": "text",
    "id": "view-in-github"
   },
   "source": [
    "<a href=\"https://colab.research.google.com/github/Sandesh10/Data-Challenge-2020/blob/master/Part_4.ipynb\" target=\"_parent\"><img src=\"https://colab.research.google.com/assets/colab-badge.svg\" alt=\"Open In Colab\"/></a>"
   ]
  },
  {
   "cell_type": "markdown",
   "metadata": {
    "colab_type": "text",
    "id": "L88IihV43hMx"
   },
   "source": [
    "How do people’s trust profiles (which can be calculated based on their responses to question A6) relate to:\n",
    "\n",
    "    a. (1) various demographic factors [e.g., age (O1),\n",
    "    b. educational attainment (O3),\n",
    "    c. income (O12),\n",
    "    d. race (O6),\n",
    "    e. sexual orientation (O7)];\n",
    "    f. (2) whether or not respondents have used a computer, smartphone, or other\n",
    "    electronic means to look for health information for themselves or someone else during the past year (B5a);\n",
    "    g. (3) respondents’ perceptions regarding the healthcare they have received over the past year (C3 &amp; C6);\n",
    "    h. and (4) their participation in cancer screenings (L1 – L4)?"
   ]
  },
  {
   "cell_type": "code",
   "execution_count": 0,
   "metadata": {
    "colab": {},
    "colab_type": "code",
    "id": "_x5CzbtX3ju0"
   },
   "outputs": [],
   "source": [
    "import pandas as pd\n",
    "import numpy as np\n",
    "import matplotlib.pyplot as plt\n",
    "import seaborn as sns\n",
    "\n",
    "from sklearn import linear_model, metrics\n",
    "import statsmodels.api as sm\n",
    "from statsmodels.stats.outliers_influence import variance_inflation_factor\n",
    "\n",
    "from sklearn.decomposition import PCA"
   ]
  },
  {
   "cell_type": "code",
   "execution_count": 0,
   "metadata": {
    "colab": {},
    "colab_type": "code",
    "id": "-NOi3s7b4flC"
   },
   "outputs": [],
   "source": [
    "df = pd.read_excel('data_level4.xlsx')"
   ]
  },
  {
   "cell_type": "code",
   "execution_count": 0,
   "metadata": {
    "colab": {},
    "colab_type": "code",
    "id": "tqsP23QZqG6V"
   },
   "outputs": [],
   "source": [
    "'''\n",
    "    Preprocessing steps:\n",
    "    1. Removing all the columns after index 359. This includes all columns after `MAILNUM` column. \n",
    "    2. Remove all the columns with object datatype. \n",
    "'''\n",
    "def preprocess_df(df):\n",
    "  remove_df = df.iloc[:,359:]\n",
    "  df = df.drop(remove_df.columns, axis=1)\n",
    "  object_cols = list(df.select_dtypes(include=['object']).columns)\n",
    "  print('Removing following columns', object_cols)\n",
    "  date_cols = list(df.select_dtypes(include=['datetime']).columns)\n",
    "  print('Removing following columns', date_cols)\n",
    "  new_df = df.drop(object_cols, axis=1)\n",
    "  new_df = new_df.drop(date_cols, axis=1)\n",
    "  print('Removing column : Prompt . [P.S. This contains NaN]')\n",
    "  new_df = new_df.drop(['Prompt'],axis =1)\n",
    "  print(\"New dataframe shape \", new_df.shape)\n",
    "  return new_df"
   ]
  },
  {
   "cell_type": "code",
   "execution_count": 0,
   "metadata": {
    "colab": {
     "base_uri": "https://localhost:8080/",
     "height": 105
    },
    "colab_type": "code",
    "id": "bfNQmzeZsG_c",
    "outputId": "2335c49e-34c9-42e1-d3de-4656f8050926"
   },
   "outputs": [
    {
     "name": "stdout",
     "output_type": "stream",
     "text": [
      "Removing following columns ['PersonID', 'Stratum', 'APP_REGION', 'VAR_STRATUM', 'StrongNeedHealthInfo_OS', 'HealthIns_Other_OS', 'Caregiving_Other_OS', 'CaOther_OS', 'SexualOrientation_OS']\n",
      "Removing following columns ['UpdateDate']\n",
      "Removing column : Prompt . [P.S. This contains NaN]\n",
      "New dataframe shape  (5438, 348)\n"
     ]
    }
   ],
   "source": [
    "new_df = preprocess_df(df)"
   ]
  },
  {
   "cell_type": "code",
   "execution_count": 0,
   "metadata": {
    "colab": {},
    "colab_type": "code",
    "id": "bgEFcv89uO7P"
   },
   "outputs": [],
   "source": [
    "def create_bar_plot(df,col_ls_1,col_ls_2, figsize = (15,7)):\n",
    "  temp = df[col_ls_2]\n",
    "  temp.groupby(col_ls_1).count().plot(kind='bar', figsize = figsize)\n",
    "\n",
    "def analyse_data(df,col_1, col_2, col_3):\n",
    "  #removing the rows with missing data\n",
    "  temp_df = df[df[col_1]>0]\n",
    "  print(\"Shape after Filtering \",col_1,\" : \",temp_df.shape)\n",
    "\n",
    "  #removing the rows with missing data\n",
    "  temp_df_2 = temp_df[temp_df[col_2]>0]\n",
    "  print(\"Shape after Filtering \",col_2,\" : \",temp_df_2.shape)\n",
    "  res = temp_df_2.groupby([col_1,col_2]).count()\n",
    "  print(res)\n",
    "  create_bar_plot(temp_df_2, [col_1,col_2], [col_1,col_2, col_3])\n",
    "  print('Done!!')\n"
   ]
  },
  {
   "cell_type": "markdown",
   "metadata": {
    "colab_type": "text",
    "id": "MlEWnNX45anp"
   },
   "source": [
    " TrustDoctor\n",
    "\n",
    "  A6a. In general, how much would you trust information about health or medical topics from a doctor?\n",
    "\n",
    "    1.  A lot            2.  Some\n",
    "    3.  A little         4.  Not At All\n",
    "\n",
    "\n",
    "\n",
    "TrustFamily\n",
    "\n",
    "A6b. In general, how much would you trust information about health or medical topics from family or friends?\n",
    "\n",
    "    1.  A lot            2.  Some\n",
    "    3.  A little         4.  Not At All\n",
    "\n",
    "\n",
    "TrustGov\n",
    "\n",
    "A6c. In general, how much would you trust information about health or medical topics from government health agencies?\n",
    "\n",
    "\n",
    "    1.  A lot            2.  Some\n",
    "    3.  A little         4.  Not At All\n",
    "\n",
    "\n",
    "TrustCharities\n",
    "\n",
    "A6d. In general, how much would you trust information about health or medical topics from charitable organizations?\n",
    "\n",
    "    1.  A lot            2.  Some\n",
    "    3.  A little         4.  Not At All\n",
    "\n",
    "\n",
    "TrustReligiousOrgs\n",
    "A6e. In general, how much would you trust information about health or medical topics from religious organizations and leaders?\n",
    "    1.  A lot            2.  Some\n",
    "    3.  A little         4.  Not At All\n",
    "\n"
   ]
  },
  {
   "cell_type": "code",
   "execution_count": 0,
   "metadata": {
    "colab": {
     "base_uri": "https://localhost:8080/",
     "height": 1000
    },
    "colab_type": "code",
    "id": "sXfSVRZ8LR0V",
    "outputId": "5e246f73-be06-40b4-9654-748c9b25b557"
   },
   "outputs": [
    {
     "name": "stdout",
     "output_type": "stream",
     "text": [
      "                        HHID  HIGHSPANLI  ...  IncomeFeelings  MAILNUM\n",
      "IncomeRanges Education                    ...                         \n",
      "1            1            73          73  ...              73       73\n",
      "             2            94          94  ...              94       94\n",
      "             3            25          25  ...              25       25\n",
      "             4            74          74  ...              74       74\n",
      "             5            40          40  ...              40       40\n",
      "             6             7           7  ...               7        7\n",
      "2            1            51          51  ...              51       51\n",
      "             2            95          95  ...              95       95\n",
      "             3            24          24  ...              24       24\n",
      "             4            71          71  ...              71       71\n",
      "             5            40          40  ...              40       40\n",
      "             6            14          14  ...              14       14\n",
      "3            1            35          35  ...              35       35\n",
      "             2            80          80  ...              80       80\n",
      "             3            33          33  ...              33       33\n",
      "             4            76          76  ...              76       76\n",
      "             5            31          31  ...              31       31\n",
      "             6            18          18  ...              18       18\n",
      "4            1            54          54  ...              54       54\n",
      "             2           169         169  ...             169      169\n",
      "             3            49          49  ...              49       49\n",
      "             4           164         164  ...             164      164\n",
      "             5           127         127  ...             127      127\n",
      "             6            49          49  ...              49       49\n",
      "5            1            35          35  ...              35       35\n",
      "             2           113         113  ...             113      113\n",
      "             3            59          59  ...              59       59\n",
      "             4           173         173  ...             173      173\n",
      "             5           161         161  ...             161      161\n",
      "             6            79          79  ...              79       79\n",
      "6            1            25          25  ...              25       25\n",
      "             2           129         129  ...             129      129\n",
      "             3            73          73  ...              73       73\n",
      "             4           211         211  ...             211      211\n",
      "             5           267         267  ...             267      267\n",
      "             6           139         139  ...             139      139\n",
      "7            1             9           9  ...               9        9\n",
      "             2            53          53  ...              53       53\n",
      "             3            40          40  ...              40       40\n",
      "             4           133         133  ...             133      133\n",
      "             5           207         207  ...             207      207\n",
      "             6           143         143  ...             143      143\n",
      "8            1             3           3  ...               3        3\n",
      "             2            67          67  ...              67       67\n",
      "             3            42          42  ...              42       42\n",
      "             4           140         140  ...             140      140\n",
      "             5           309         309  ...             309      309\n",
      "             6           326         326  ...             326      326\n",
      "9            1             1           1  ...               1        1\n",
      "             2            13          13  ...              13       13\n",
      "             3             5           5  ...               5        5\n",
      "             4            29          29  ...              29       29\n",
      "             5           120         120  ...             120      120\n",
      "             6           156         156  ...             156      156\n",
      "\n",
      "[54 rows x 346 columns]\n"
     ]
    },
    {
     "name": "stderr",
     "output_type": "stream",
     "text": [
      "/usr/local/lib/python3.6/dist-packages/ipykernel_launcher.py:5: SettingWithCopyWarning: \n",
      "A value is trying to be set on a copy of a slice from a DataFrame.\n",
      "Try using .loc[row_indexer,col_indexer] = value instead\n",
      "\n",
      "See the caveats in the documentation: http://pandas.pydata.org/pandas-docs/stable/user_guide/indexing.html#returning-a-view-versus-a-copy\n",
      "  \"\"\"\n"
     ]
    },
    {
     "data": {
      "text/plain": [
       "<matplotlib.axes._subplots.AxesSubplot at 0x7f4fa74eb358>"
      ]
     },
     "execution_count": 12,
     "metadata": {
      "tags": []
     },
     "output_type": "execute_result"
    },
    {
     "data": {
      "image/png": "[encoded data removed]",
      "text/plain": [
       "<Figure size 720x432 with 1 Axes>"
      ]
     },
     "metadata": {
      "tags": []
     },
     "output_type": "display_data"
    }
   ],
   "source": [
    "new_df2 = new_df[new_df['IncomeRanges']>0]\n",
    "# new_df2['IncomeRanges'] = new_df2['IncomeRanges'].apply(lambda x: 1 if x<=2 else (x-1))\n",
    "# print(new_df2.Avalue_counts())\n",
    "new_df3 = new_df2[new_df2['Education']>0]\n",
    "new_df3['Education'] = new_df3['Education'].apply(lambda x: 1 if x<=2 else (x-1))\n",
    "print(new_df3.groupby(['IncomeRanges','Education']).count())\n",
    "temp = new_df3[['IncomeRanges','Education','OwnAbilityTakeCareHealth']]\n",
    "temp.groupby(['IncomeRanges','Education',]).count().unstack(level=1).plot.bar(stacked=True,\n",
    "              title='Use of electronic device in looking for health or medical information',figsize = (10,6))"
   ]
  },
  {
   "cell_type": "code",
   "execution_count": 0,
   "metadata": {
    "colab": {
     "base_uri": "https://localhost:8080/",
     "height": 1000
    },
    "colab_type": "code",
    "id": "jhEzJL3LCLYD",
    "outputId": "87d4f747-a6db-4bab-d98e-bc6574e3386f"
   },
   "outputs": [
    {
     "name": "stdout",
     "output_type": "stream",
     "text": [
      "                            HHID  HIGHSPANLI  ...  IncomeFeelings  MAILNUM\n",
      "IncomeRanges GeneralHealth                    ...                         \n",
      "1            1                27          27  ...              27       27\n",
      "             2                61          61  ...              61       61\n",
      "             3                99          99  ...              99       99\n",
      "             4                96          96  ...              96       96\n",
      "             5                35          35  ...              35       35\n",
      "2            1                18          18  ...              18       18\n",
      "             2                57          57  ...              57       57\n",
      "             3               115         115  ...             115      115\n",
      "             4                85          85  ...              85       85\n",
      "             5                16          16  ...              16       16\n",
      "3            1                17          17  ...              17       17\n",
      "             2                70          70  ...              70       70\n",
      "             3               108         108  ...             108      108\n",
      "             4                59          59  ...              59       59\n",
      "             5                14          14  ...              14       14\n",
      "4            1                45          45  ...              45       45\n",
      "             2               188         188  ...             188      188\n",
      "             3               248         248  ...             248      248\n",
      "             4               108         108  ...             108      108\n",
      "             5                18          18  ...              18       18\n",
      "5            1                60          60  ...              60       60\n",
      "             2               192         192  ...             192      192\n",
      "             3               250         250  ...             250      250\n",
      "             4               106         106  ...             106      106\n",
      "             5                14          14  ...              14       14\n",
      "6            1               103         103  ...             103      103\n",
      "             2               324         324  ...             324      324\n",
      "             3               330         330  ...             330      330\n",
      "             4                78          78  ...              78       78\n",
      "             5                 8           8  ...               8        8\n",
      "7            1                73          73  ...              73       73\n",
      "             2               248         248  ...             248      248\n",
      "             3               214         214  ...             214      214\n",
      "             4                41          41  ...              41       41\n",
      "             5                 3           3  ...               3        3\n",
      "8            1               141         141  ...             141      141\n",
      "             2               408         408  ...             408      408\n",
      "             3               280         280  ...             280      280\n",
      "             4                50          50  ...              50       50\n",
      "             5                 4           4  ...               4        4\n",
      "9            1                86          86  ...              86       86\n",
      "             2               156         156  ...             156      156\n",
      "             3                72          72  ...              72       72\n",
      "             4                 9           9  ...               9        9\n",
      "             5                 1           1  ...               1        1\n",
      "\n",
      "[45 rows x 346 columns]\n"
     ]
    },
    {
     "data": {
      "text/plain": [
       "<matplotlib.axes._subplots.AxesSubplot at 0x7f4fa3556470>"
      ]
     },
     "execution_count": 7,
     "metadata": {
      "tags": []
     },
     "output_type": "execute_result"
    },
    {
     "data": {
      "image/png": "[encoded data removed]",
      "text/plain": [
       "<Figure size 720x432 with 1 Axes>"
      ]
     },
     "metadata": {
      "tags": []
     },
     "output_type": "display_data"
    }
   ],
   "source": [
    "new_df2 = new_df[new_df['IncomeRanges']>0]\n",
    "# new_df2['IncomeRanges'] = new_df2['IncomeRanges'].apply(lambda x: 1 if x<=2 else (x-1))\n",
    "# print(new_df2.Avalue_counts())\n",
    "new_df3 = new_df2[new_df2['GeneralHealth']>0]\n",
    "# new_df3['Age'] = new_df3['Age'].apply(lambda x: group_age(x))\n",
    "print(new_df3.groupby(['IncomeRanges','GeneralHealth']).count())\n",
    "temp = new_df3[['IncomeRanges','GeneralHealth','OwnAbilityTakeCareHealth']]\n",
    "temp.groupby(['IncomeRanges','GeneralHealth',]).count().unstack(level=1).plot.bar(stacked=True,\n",
    "              title='Use of electronic device in looking for health or medical information',figsize = (10,6))"
   ]
  },
  {
   "cell_type": "code",
   "execution_count": 0,
   "metadata": {
    "colab": {
     "base_uri": "https://localhost:8080/",
     "height": 1000
    },
    "colab_type": "code",
    "id": "lKXaym2iQPun",
    "outputId": "564ea9d7-c50f-4add-ddf3-af0cbd01a7cf"
   },
   "outputs": [
    {
     "name": "stdout",
     "output_type": "stream",
     "text": [
      " 65    143\n",
      "-9     142\n",
      " 60    136\n",
      " 72    134\n",
      " 62    133\n",
      "      ... \n",
      " 94      5\n",
      " 97      3\n",
      " 95      2\n",
      " 98      2\n",
      "-4       2\n",
      "Name: Age, Length: 82, dtype: int64\n",
      "                 HHID  HIGHSPANLI  ...  IncomeFeelings  MAILNUM\n",
      "TrustDoctor Age                    ...                         \n",
      "1           1     363         363  ...             363      363\n",
      "            2    1184        1184  ...            1184     1184\n",
      "            3    2128        2128  ...            2128     2128\n",
      "            4    1149        1149  ...            1149     1149\n",
      "            5      52          52  ...              52       52\n",
      "2           1      14          14  ...              14       14\n",
      "            2      71          71  ...              71       71\n",
      "            3      85          85  ...              85       85\n",
      "            4      53          53  ...              53       53\n",
      "            5       1           1  ...               1        1\n",
      "3           1       1           1  ...               1        1\n",
      "            2       8           8  ...               8        8\n",
      "            3      24          24  ...              24       24\n",
      "            4      17          17  ...              17       17\n",
      "            5       1           1  ...               1        1\n",
      "\n",
      "[15 rows x 346 columns]\n"
     ]
    },
    {
     "name": "stderr",
     "output_type": "stream",
     "text": [
      "/usr/local/lib/python3.6/dist-packages/ipykernel_launcher.py:13: SettingWithCopyWarning: \n",
      "A value is trying to be set on a copy of a slice from a DataFrame.\n",
      "Try using .loc[row_indexer,col_indexer] = value instead\n",
      "\n",
      "See the caveats in the documentation: http://pandas.pydata.org/pandas-docs/stable/user_guide/indexing.html#returning-a-view-versus-a-copy\n",
      "  del sys.path[0]\n",
      "/usr/local/lib/python3.6/dist-packages/ipykernel_launcher.py:16: SettingWithCopyWarning: \n",
      "A value is trying to be set on a copy of a slice from a DataFrame.\n",
      "Try using .loc[row_indexer,col_indexer] = value instead\n",
      "\n",
      "See the caveats in the documentation: http://pandas.pydata.org/pandas-docs/stable/user_guide/indexing.html#returning-a-view-versus-a-copy\n",
      "  app.launch_new_instance()\n"
     ]
    },
    {
     "data": {
      "text/plain": [
       "<matplotlib.axes._subplots.AxesSubplot at 0x7f4fa3575c18>"
      ]
     },
     "execution_count": 6,
     "metadata": {
      "tags": []
     },
     "output_type": "execute_result"
    },
    {
     "data": {
      "image/png": "[encoded data removed]",
      "text/plain": [
       "<Figure size 720x432 with 1 Axes>"
      ]
     },
     "metadata": {
      "tags": []
     },
     "output_type": "display_data"
    }
   ],
   "source": [
    "def group_age(n):\n",
    "  if n>=10 and n<30:\n",
    "    return 1\n",
    "  elif n>=30 and n<50:\n",
    "    return 2\n",
    "  elif n>=50 and n<70:\n",
    "    return 3\n",
    "  elif n>=70 and n<90:\n",
    "    return 4\n",
    "  elif n>=90:\n",
    "    return 5\n",
    "new_df2 = new_df[new_df['TrustDoctor']>0]\n",
    "new_df2['TrustDoctor'] = new_df2['TrustDoctor'].apply(lambda x: 1 if x<=2 else (x-1))\n",
    "print(new_df2.Age.value_counts())\n",
    "new_df3 = new_df2[new_df2['Age']>0]\n",
    "new_df3['Age'] = new_df3['Age'].apply(lambda x: group_age(x))\n",
    "print(new_df3.groupby(['TrustDoctor','Age']).count())\n",
    "temp = new_df3[['TrustDoctor','Age','OwnAbilityTakeCareHealth']]\n",
    "temp.groupby(['TrustDoctor','Age',]).count().unstack(level=1).plot.bar(stacked=True,\n",
    "              title='Use of electronic device in looking for health or medical information',figsize = (10,6))"
   ]
  },
  {
   "cell_type": "code",
   "execution_count": 0,
   "metadata": {
    "colab": {
     "base_uri": "https://localhost:8080/",
     "height": 876
    },
    "colab_type": "code",
    "id": "Mj_t5ebRkpM5",
    "outputId": "b47deace-1e33-461b-b508-aa8abf3e4e97"
   },
   "outputs": [
    {
     "name": "stdout",
     "output_type": "stream",
     "text": [
      "3    2297\n",
      "2    1277\n",
      "4    1273\n",
      "1     378\n",
      "5      59\n",
      "Name: Age, dtype: int64\n",
      "                 HHID  HIGHSPANLI  ...  IncomeFeelings  MAILNUM\n",
      "Age UseInternet                    ...                         \n",
      "1   1             378         378  ...             378      378\n",
      "2   1            1274        1274  ...            1274     1274\n",
      "3   1            2277        2277  ...            2277     2277\n",
      "4   1            1257        1257  ...            1257     1257\n",
      "5   1              59          59  ...              59       59\n",
      "\n",
      "[5 rows x 346 columns]\n"
     ]
    },
    {
     "name": "stderr",
     "output_type": "stream",
     "text": [
      "/usr/local/lib/python3.6/dist-packages/ipykernel_launcher.py:13: SettingWithCopyWarning: \n",
      "A value is trying to be set on a copy of a slice from a DataFrame.\n",
      "Try using .loc[row_indexer,col_indexer] = value instead\n",
      "\n",
      "See the caveats in the documentation: http://pandas.pydata.org/pandas-docs/stable/user_guide/indexing.html#returning-a-view-versus-a-copy\n",
      "  del sys.path[0]\n",
      "/usr/local/lib/python3.6/dist-packages/ipykernel_launcher.py:16: SettingWithCopyWarning: \n",
      "A value is trying to be set on a copy of a slice from a DataFrame.\n",
      "Try using .loc[row_indexer,col_indexer] = value instead\n",
      "\n",
      "See the caveats in the documentation: http://pandas.pydata.org/pandas-docs/stable/user_guide/indexing.html#returning-a-view-versus-a-copy\n",
      "  app.launch_new_instance()\n"
     ]
    },
    {
     "data": {
      "text/plain": [
       "<matplotlib.axes._subplots.AxesSubplot at 0x7ff806240dd8>"
      ]
     },
     "execution_count": 8,
     "metadata": {
      "tags": []
     },
     "output_type": "execute_result"
    },
    {
     "data": {
      "image/png": "[encoded data removed]",
      "text/plain": [
       "<Figure size 720x432 with 1 Axes>"
      ]
     },
     "metadata": {
      "tags": []
     },
     "output_type": "display_data"
    }
   ],
   "source": [
    "def group_age(n):\n",
    "  if n>=10 and n<30:\n",
    "    return 1\n",
    "  elif n>=30 and n<50:\n",
    "    return 2\n",
    "  elif n>=50 and n<70:\n",
    "    return 3\n",
    "  elif n>=70 and n<90:\n",
    "    return 4\n",
    "  elif n>=90:\n",
    "    return 5\n",
    "new_df2 = new_df[new_df['Age']>0]\n",
    "new_df2['Age'] = new_df2['Age'].apply(lambda x: group_age(x))\n",
    "print(new_df2.Age.value_counts())\n",
    "new_df3 = new_df2[new_df2['UseInternet']>0]\n",
    "new_df3['UseInternet'] = new_df3['UseInternet'].apply(lambda x: 1 if x<=2 else (x-1))\n",
    "print(new_df3.groupby(['Age','UseInternet']).count())\n",
    "temp = new_df3[['UseInternet','Age','OwnAbilityTakeCareHealth']]\n",
    "temp.groupby(['Age','UseInternet']).count().unstack(level=1).plot.bar(stacked=True,\n",
    "              title='Use of electronic device in looking for health or medical information',figsize = (10,6))"
   ]
  },
  {
   "cell_type": "code",
   "execution_count": 0,
   "metadata": {
    "colab": {},
    "colab_type": "code",
    "id": "9tx1iy8nQRli"
   },
   "outputs": [],
   "source": []
  },
  {
   "cell_type": "code",
   "execution_count": 0,
   "metadata": {
    "colab": {
     "base_uri": "https://localhost:8080/",
     "height": 772
    },
    "colab_type": "code",
    "id": "0wLsAZ2ow3pE",
    "outputId": "98ec9aa4-05b6-41dc-bb50-f549b255e730"
   },
   "outputs": [
    {
     "name": "stdout",
     "output_type": "stream",
     "text": [
      "Shape after Filtering  TrustDoctor  :  (5295, 348)\n",
      "Shape after Filtering  Age  :  (5151, 348)\n",
      "                 HHID  HIGHSPANLI  ...  IncomeFeelings  MAILNUM\n",
      "TrustDoctor Age                    ...                         \n",
      "1           18     10          10  ...              10       10\n",
      "            19     11          11  ...              11       11\n",
      "            20      8           8  ...               8        8\n",
      "            21     19          19  ...              19       19\n",
      "            22     16          16  ...              16       16\n",
      "...               ...         ...  ...             ...      ...\n",
      "4           80      3           3  ...               3        3\n",
      "            85      1           1  ...               1        1\n",
      "            86      1           1  ...               1        1\n",
      "            87      1           1  ...               1        1\n",
      "            91      1           1  ...               1        1\n",
      "\n",
      "[260 rows x 346 columns]\n",
      "Done!!\n"
     ]
    },
    {
     "data": {
      "image/png": "[encoded data removed]",
      "text/plain": [
       "<Figure size 1080x504 with 1 Axes>"
      ]
     },
     "metadata": {
      "tags": []
     },
     "output_type": "display_data"
    }
   ],
   "source": [
    "# ConfidentGetHealthInf vs OwnAbilityTakeCareHealth\n",
    "\n",
    "analyse_data(new_df,'TrustDoctor','Age','WhereSeekHealthInfo')"
   ]
  },
  {
   "cell_type": "code",
   "execution_count": 0,
   "metadata": {
    "colab": {
     "base_uri": "https://localhost:8080/",
     "height": 772
    },
    "colab_type": "code",
    "id": "MGT5cJX8GA6u",
    "outputId": "2c43b1b9-a666-4938-eb00-cf917a2f7d31"
   },
   "outputs": [
    {
     "name": "stdout",
     "output_type": "stream",
     "text": [
      "Shape after Filtering  TrustFamily  :  (5106, 348)\n",
      "Shape after Filtering  Age  :  (4981, 348)\n",
      "                 HHID  HIGHSPANLI  ...  IncomeFeelings  MAILNUM\n",
      "TrustFamily Age                    ...                         \n",
      "1           18      2           2  ...               2        2\n",
      "            20      3           3  ...               3        3\n",
      "            21      4           4  ...               4        4\n",
      "            22      5           5  ...               5        5\n",
      "            23      2           2  ...               2        2\n",
      "...               ...         ...  ...             ...      ...\n",
      "4           85      2           2  ...               2        2\n",
      "            86      1           1  ...               1        1\n",
      "            87      2           2  ...               2        2\n",
      "            88      2           2  ...               2        2\n",
      "            95      1           1  ...               1        1\n",
      "\n",
      "[296 rows x 346 columns]\n",
      "Done!!\n"
     ]
    },
    {
     "data": {
      "image/png": "[encoded data removed]",
      "text/plain": [
       "<Figure size 1080x504 with 1 Axes>"
      ]
     },
     "metadata": {
      "tags": []
     },
     "output_type": "display_data"
    }
   ],
   "source": [
    "analyse_data(new_df,'TrustFamily','Age','WhereSeekHealthInfo')"
   ]
  },
  {
   "cell_type": "code",
   "execution_count": 0,
   "metadata": {
    "colab": {
     "base_uri": "https://localhost:8080/",
     "height": 772
    },
    "colab_type": "code",
    "id": "bWsKpR-oGHkB",
    "outputId": "e8584bd4-d497-41f1-e552-d516ba9b154b"
   },
   "outputs": [
    {
     "name": "stdout",
     "output_type": "stream",
     "text": [
      "Shape after Filtering  TrustGov  :  (5104, 348)\n",
      "Shape after Filtering  Age  :  (4982, 348)\n",
      "              HHID  HIGHSPANLI  ...  IncomeFeelings  MAILNUM\n",
      "TrustGov Age                    ...                         \n",
      "1        18      2           2  ...               2        2\n",
      "         19      4           4  ...               4        4\n",
      "         20      2           2  ...               2        2\n",
      "         21      9           9  ...               9        9\n",
      "         22      7           7  ...               7        7\n",
      "...            ...         ...  ...             ...      ...\n",
      "4        91      1           1  ...               1        1\n",
      "         92      2           2  ...               2        2\n",
      "         95      1           1  ...               1        1\n",
      "         97      1           1  ...               1        1\n",
      "         98      1           1  ...               1        1\n",
      "\n",
      "[308 rows x 346 columns]\n",
      "Done!!\n"
     ]
    },
    {
     "data": {
      "image/png": "[encoded data removed]",
      "text/plain": [
       "<Figure size 1080x504 with 1 Axes>"
      ]
     },
     "metadata": {
      "tags": []
     },
     "output_type": "display_data"
    }
   ],
   "source": [
    "analyse_data(new_df,'TrustGov','Age','WhereSeekHealthInfo')"
   ]
  },
  {
   "cell_type": "code",
   "execution_count": 0,
   "metadata": {
    "colab": {
     "base_uri": "https://localhost:8080/",
     "height": 772
    },
    "colab_type": "code",
    "id": "gkyja--QGUdI",
    "outputId": "c927a6ee-2423-4007-d007-3597fabe6fc6"
   },
   "outputs": [
    {
     "name": "stdout",
     "output_type": "stream",
     "text": [
      "Shape after Filtering  TrustCharities  :  (5075, 348)\n",
      "Shape after Filtering  Age  :  (4951, 348)\n",
      "                    HHID  HIGHSPANLI  ...  IncomeFeelings  MAILNUM\n",
      "TrustCharities Age                    ...                         \n",
      "1              18      1           1  ...               1        1\n",
      "               20      2           2  ...               2        2\n",
      "               21      5           5  ...               5        5\n",
      "               22      1           1  ...               1        1\n",
      "               23      2           2  ...               2        2\n",
      "...                  ...         ...  ...             ...      ...\n",
      "4              92      8           8  ...               8        8\n",
      "               93      1           1  ...               1        1\n",
      "               95      2           2  ...               2        2\n",
      "               97      1           1  ...               1        1\n",
      "               98      2           2  ...               2        2\n",
      "\n",
      "[300 rows x 346 columns]\n",
      "Done!!\n"
     ]
    },
    {
     "data": {
      "image/png": "[encoded data removed]",
      "text/plain": [
       "<Figure size 1080x504 with 1 Axes>"
      ]
     },
     "metadata": {
      "tags": []
     },
     "output_type": "display_data"
    }
   ],
   "source": [
    "analyse_data(new_df,'TrustCharities','Age','WhereSeekHealthInfo')"
   ]
  },
  {
   "cell_type": "code",
   "execution_count": 0,
   "metadata": {
    "colab": {
     "base_uri": "https://localhost:8080/",
     "height": 1000
    },
    "colab_type": "code",
    "id": "TtO1to_FZrw2",
    "outputId": "54716db3-b56c-4e67-dc6a-a3e43cb4a8a1"
   },
   "outputs": [
    {
     "name": "stdout",
     "output_type": "stream",
     "text": [
      "Shape after Filtering  TrustDoctor  :  (5295, 348)\n",
      "Shape after Filtering  Education  :  (5152, 348)\n",
      "                       HHID  HIGHSPANLI  ...  IncomeFeelings  MAILNUM\n",
      "TrustDoctor Education                    ...                         \n",
      "1           1            49          49  ...              49       49\n",
      "            2           148         148  ...             148      148\n",
      "            3           588         588  ...             588      588\n",
      "            4           259         259  ...             259      259\n",
      "            5           820         820  ...             820      820\n",
      "            6          1012        1012  ...            1012     1012\n",
      "            7           763         763  ...             763      763\n",
      "2           1            16          16  ...              16       16\n",
      "            2            65          65  ...              65       65\n",
      "            3           251         251  ...             251      251\n",
      "            4            99          99  ...              99       99\n",
      "            5           285         285  ...             285      285\n",
      "            6           317         317  ...             317      317\n",
      "            7           203         203  ...             203      203\n",
      "3           1             6           6  ...               6        6\n",
      "            2            18          18  ...              18       18\n",
      "            3            68          68  ...              68       68\n",
      "            4            16          16  ...              16       16\n",
      "            5            48          48  ...              48       48\n",
      "            6            47          47  ...              47       47\n",
      "            7            23          23  ...              23       23\n",
      "4           1             3           3  ...               3        3\n",
      "            2             5           5  ...               5        5\n",
      "            3            10          10  ...              10       10\n",
      "            4             5           5  ...               5        5\n",
      "            5            16          16  ...              16       16\n",
      "            6             7           7  ...               7        7\n",
      "            7             5           5  ...               5        5\n",
      "\n",
      "[28 rows x 346 columns]\n",
      "Done!!\n"
     ]
    },
    {
     "data": {
      "image/png": "[encoded data removed]",
      "text/plain": [
       "<Figure size 1080x504 with 1 Axes>"
      ]
     },
     "metadata": {
      "tags": []
     },
     "output_type": "display_data"
    }
   ],
   "source": [
    "analyse_data(new_df,'TrustDoctor','Education','WhereSeekHealthInfo')"
   ]
  },
  {
   "cell_type": "code",
   "execution_count": 0,
   "metadata": {
    "colab": {
     "base_uri": "https://localhost:8080/",
     "height": 1000
    },
    "colab_type": "code",
    "id": "wOUTLgslaypc",
    "outputId": "fcba40a1-4346-47e8-9050-e022e5b5fc4b"
   },
   "outputs": [
    {
     "name": "stdout",
     "output_type": "stream",
     "text": [
      "Shape after Filtering  TrustDoctor  :  (5295, 348)\n",
      "Shape after Filtering  IncomeRanges  :  (4686, 348)\n",
      "                          HHID  HIGHSPANLI  ...  IncomeFeelings  MAILNUM\n",
      "TrustDoctor IncomeRanges                    ...                         \n",
      "1           1              188         188  ...             188      188\n",
      "            2              186         186  ...             186      186\n",
      "            3              170         170  ...             170      170\n",
      "            4              412         412  ...             412      412\n",
      "            5              425         425  ...             425      425\n",
      "            6              578         578  ...             578      578\n",
      "            7              421         421  ...             421      421\n",
      "            8              673         673  ...             673      673\n",
      "            9              262         262  ...             262      262\n",
      "2           1               91          91  ...              91       91\n",
      "            2               73          73  ...              73       73\n",
      "            3               76          76  ...              76       76\n",
      "            4              147         147  ...             147      147\n",
      "            5              155         155  ...             155      155\n",
      "            6              217         217  ...             217      217\n",
      "            7              132         132  ...             132      132\n",
      "            8              179         179  ...             179      179\n",
      "            9               51          51  ...              51       51\n",
      "3           1               17          17  ...              17       17\n",
      "            2               31          31  ...              31       31\n",
      "            3               13          13  ...              13       13\n",
      "            4               33          33  ...              33       33\n",
      "            5               25          25  ...              25       25\n",
      "            6               29          29  ...              29       29\n",
      "            7               25          25  ...              25       25\n",
      "            8               23          23  ...              23       23\n",
      "            9                8           8  ...               8        8\n",
      "4           1               12          12  ...              12       12\n",
      "            2                2           2  ...               2        2\n",
      "            3                4           4  ...               4        4\n",
      "            4               11          11  ...              11       11\n",
      "            5                8           8  ...               8        8\n",
      "            6                5           5  ...               5        5\n",
      "            7                3           3  ...               3        3\n",
      "            8                1           1  ...               1        1\n",
      "\n",
      "[35 rows x 346 columns]\n",
      "Done!!\n"
     ]
    },
    {
     "data": {
      "image/png": "[encoded data removed]",
      "text/plain": [
       "<Figure size 1080x504 with 1 Axes>"
      ]
     },
     "metadata": {
      "tags": []
     },
     "output_type": "display_data"
    }
   ],
   "source": [
    "analyse_data(new_df,'TrustDoctor','IncomeRanges','WhereSeekHealthInfo')"
   ]
  },
  {
   "cell_type": "code",
   "execution_count": 0,
   "metadata": {
    "colab": {},
    "colab_type": "code",
    "id": "TKCLCTx6GcTd"
   },
   "outputs": [],
   "source": []
  },
  {
   "cell_type": "markdown",
   "metadata": {
    "colab_type": "text",
    "id": "BkaBN4qJGc3c"
   },
   "source": [
    "TODO: REMOVE ALL THE CODE DOWN FROM HERE"
   ]
  },
  {
   "cell_type": "code",
   "execution_count": 0,
   "metadata": {
    "colab": {
     "base_uri": "https://localhost:8080/",
     "height": 901
    },
    "colab_type": "code",
    "id": "uuaXsBgv7gR2",
    "outputId": "dfa1df6a-d507-44ac-ad40-3a1daf531b7f"
   },
   "outputs": [
    {
     "name": "stdout",
     "output_type": "stream",
     "text": [
      "(5119, 348)\n",
      "                                             HHID  ...  MAILNUM\n",
      "ConfidentGetHealthInf EverythingCauseCancer        ...         \n",
      "1                     1                       333  ...      333\n",
      "                      2                       546  ...      546\n",
      "                      3                       244  ...      244\n",
      "                      4                       210  ...      210\n",
      "2                     1                       355  ...      355\n",
      "                      2                       947  ...      947\n",
      "                      3                       380  ...      380\n",
      "                      4                       254  ...      254\n",
      "3                     1                       311  ...      311\n",
      "                      2                       738  ...      738\n",
      "                      3                       297  ...      297\n",
      "                      4                       142  ...      142\n",
      "4                     1                        87  ...       87\n",
      "                      2                        87  ...       87\n",
      "                      3                        46  ...       46\n",
      "                      4                        25  ...       25\n",
      "5                     1                        49  ...       49\n",
      "                      2                        39  ...       39\n",
      "                      3                        14  ...       14\n",
      "                      4                        15  ...       15\n",
      "\n",
      "[20 rows x 346 columns]\n"
     ]
    },
    {
     "data": {
      "text/plain": [
       "<matplotlib.axes._subplots.AxesSubplot at 0x7f21f423fda0>"
      ]
     },
     "execution_count": 14,
     "metadata": {
      "tags": []
     },
     "output_type": "execute_result"
    },
    {
     "data": {
      "image/png": "[encoded data removed]",
      "text/plain": [
       "<Figure size 1080x504 with 1 Axes>"
      ]
     },
     "metadata": {
      "tags": []
     },
     "output_type": "display_data"
    }
   ],
   "source": [
    "## ConfidentGetHealthInf vs EverythingCauseCancer\n",
    "\n",
    "temp_df = new_df[(new_df['ConfidentGetHealthInf']>0) & (new_df['EverythingCauseCancer']>0)]\n",
    "print(temp_df.shape)\n",
    "print(temp_df.groupby(['ConfidentGetHealthInf','EverythingCauseCancer']).count())\n",
    "temp = temp_df[['ConfidentGetHealthInf','EverythingCauseCancer','Frustrated']]\n",
    "temp.groupby(['ConfidentGetHealthInf','EverythingCauseCancer']).count().plot(kind='bar', figsize = (15,7))"
   ]
  },
  {
   "cell_type": "code",
   "execution_count": 0,
   "metadata": {
    "colab": {
     "base_uri": "https://localhost:8080/",
     "height": 1000
    },
    "colab_type": "code",
    "id": "QQQzSrVI7tPK",
    "outputId": "34e2f9db-cf65-4136-a181-6a5d7134bcef"
   },
   "outputs": [
    {
     "name": "stdout",
     "output_type": "stream",
     "text": [
      "(5070, 348)\n"
     ]
    },
    {
     "data": {
      "text/html": [
       "<div>\n",
       "<style scoped>\n",
       "    .dataframe tbody tr th:only-of-type {\n",
       "        vertical-align: middle;\n",
       "    }\n",
       "\n",
       "    .dataframe tbody tr th {\n",
       "        vertical-align: top;\n",
       "    }\n",
       "\n",
       "    .dataframe thead th {\n",
       "        text-align: right;\n",
       "    }\n",
       "</style>\n",
       "<table border=\"1\" class=\"dataframe\">\n",
       "  <thead>\n",
       "    <tr style=\"text-align: right;\">\n",
       "      <th></th>\n",
       "      <th></th>\n",
       "      <th></th>\n",
       "      <th>HHID</th>\n",
       "      <th>HIGHSPANLI</th>\n",
       "    </tr>\n",
       "    <tr>\n",
       "      <th>ConfidentGetHealthInf</th>\n",
       "      <th>OwnAbilityTakeCareHealth</th>\n",
       "      <th>EverythingCauseCancer</th>\n",
       "      <th></th>\n",
       "      <th></th>\n",
       "    </tr>\n",
       "  </thead>\n",
       "  <tbody>\n",
       "    <tr>\n",
       "      <th rowspan=\"20\" valign=\"top\">1</th>\n",
       "      <th rowspan=\"4\" valign=\"top\">1</th>\n",
       "      <th>1</th>\n",
       "      <td>164</td>\n",
       "      <td>164</td>\n",
       "    </tr>\n",
       "    <tr>\n",
       "      <th>2</th>\n",
       "      <td>217</td>\n",
       "      <td>217</td>\n",
       "    </tr>\n",
       "    <tr>\n",
       "      <th>3</th>\n",
       "      <td>114</td>\n",
       "      <td>114</td>\n",
       "    </tr>\n",
       "    <tr>\n",
       "      <th>4</th>\n",
       "      <td>110</td>\n",
       "      <td>110</td>\n",
       "    </tr>\n",
       "    <tr>\n",
       "      <th rowspan=\"4\" valign=\"top\">2</th>\n",
       "      <th>1</th>\n",
       "      <td>109</td>\n",
       "      <td>109</td>\n",
       "    </tr>\n",
       "    <tr>\n",
       "      <th>2</th>\n",
       "      <td>240</td>\n",
       "      <td>240</td>\n",
       "    </tr>\n",
       "    <tr>\n",
       "      <th>3</th>\n",
       "      <td>94</td>\n",
       "      <td>94</td>\n",
       "    </tr>\n",
       "    <tr>\n",
       "      <th>4</th>\n",
       "      <td>73</td>\n",
       "      <td>73</td>\n",
       "    </tr>\n",
       "    <tr>\n",
       "      <th rowspan=\"4\" valign=\"top\">3</th>\n",
       "      <th>1</th>\n",
       "      <td>46</td>\n",
       "      <td>46</td>\n",
       "    </tr>\n",
       "    <tr>\n",
       "      <th>2</th>\n",
       "      <td>74</td>\n",
       "      <td>74</td>\n",
       "    </tr>\n",
       "    <tr>\n",
       "      <th>3</th>\n",
       "      <td>22</td>\n",
       "      <td>22</td>\n",
       "    </tr>\n",
       "    <tr>\n",
       "      <th>4</th>\n",
       "      <td>21</td>\n",
       "      <td>21</td>\n",
       "    </tr>\n",
       "    <tr>\n",
       "      <th rowspan=\"4\" valign=\"top\">4</th>\n",
       "      <th>1</th>\n",
       "      <td>8</td>\n",
       "      <td>8</td>\n",
       "    </tr>\n",
       "    <tr>\n",
       "      <th>2</th>\n",
       "      <td>7</td>\n",
       "      <td>7</td>\n",
       "    </tr>\n",
       "    <tr>\n",
       "      <th>3</th>\n",
       "      <td>11</td>\n",
       "      <td>11</td>\n",
       "    </tr>\n",
       "    <tr>\n",
       "      <th>4</th>\n",
       "      <td>1</td>\n",
       "      <td>1</td>\n",
       "    </tr>\n",
       "    <tr>\n",
       "      <th rowspan=\"4\" valign=\"top\">5</th>\n",
       "      <th>1</th>\n",
       "      <td>4</td>\n",
       "      <td>4</td>\n",
       "    </tr>\n",
       "    <tr>\n",
       "      <th>2</th>\n",
       "      <td>2</td>\n",
       "      <td>2</td>\n",
       "    </tr>\n",
       "    <tr>\n",
       "      <th>3</th>\n",
       "      <td>2</td>\n",
       "      <td>2</td>\n",
       "    </tr>\n",
       "    <tr>\n",
       "      <th>4</th>\n",
       "      <td>3</td>\n",
       "      <td>3</td>\n",
       "    </tr>\n",
       "    <tr>\n",
       "      <th rowspan=\"20\" valign=\"top\">2</th>\n",
       "      <th rowspan=\"4\" valign=\"top\">1</th>\n",
       "      <th>1</th>\n",
       "      <td>72</td>\n",
       "      <td>72</td>\n",
       "    </tr>\n",
       "    <tr>\n",
       "      <th>2</th>\n",
       "      <td>203</td>\n",
       "      <td>203</td>\n",
       "    </tr>\n",
       "    <tr>\n",
       "      <th>3</th>\n",
       "      <td>91</td>\n",
       "      <td>91</td>\n",
       "    </tr>\n",
       "    <tr>\n",
       "      <th>4</th>\n",
       "      <td>66</td>\n",
       "      <td>66</td>\n",
       "    </tr>\n",
       "    <tr>\n",
       "      <th rowspan=\"4\" valign=\"top\">2</th>\n",
       "      <th>1</th>\n",
       "      <td>193</td>\n",
       "      <td>193</td>\n",
       "    </tr>\n",
       "    <tr>\n",
       "      <th>2</th>\n",
       "      <td>519</td>\n",
       "      <td>519</td>\n",
       "    </tr>\n",
       "    <tr>\n",
       "      <th>3</th>\n",
       "      <td>202</td>\n",
       "      <td>202</td>\n",
       "    </tr>\n",
       "    <tr>\n",
       "      <th>4</th>\n",
       "      <td>132</td>\n",
       "      <td>132</td>\n",
       "    </tr>\n",
       "    <tr>\n",
       "      <th rowspan=\"4\" valign=\"top\">3</th>\n",
       "      <th>1</th>\n",
       "      <td>79</td>\n",
       "      <td>79</td>\n",
       "    </tr>\n",
       "    <tr>\n",
       "      <th>2</th>\n",
       "      <td>193</td>\n",
       "      <td>193</td>\n",
       "    </tr>\n",
       "    <tr>\n",
       "      <th>3</th>\n",
       "      <td>79</td>\n",
       "      <td>79</td>\n",
       "    </tr>\n",
       "    <tr>\n",
       "      <th>4</th>\n",
       "      <td>47</td>\n",
       "      <td>47</td>\n",
       "    </tr>\n",
       "    <tr>\n",
       "      <th rowspan=\"4\" valign=\"top\">4</th>\n",
       "      <th>1</th>\n",
       "      <td>6</td>\n",
       "      <td>6</td>\n",
       "    </tr>\n",
       "    <tr>\n",
       "      <th>2</th>\n",
       "      <td>21</td>\n",
       "      <td>21</td>\n",
       "    </tr>\n",
       "    <tr>\n",
       "      <th>3</th>\n",
       "      <td>6</td>\n",
       "      <td>6</td>\n",
       "    </tr>\n",
       "    <tr>\n",
       "      <th>4</th>\n",
       "      <td>4</td>\n",
       "      <td>4</td>\n",
       "    </tr>\n",
       "    <tr>\n",
       "      <th rowspan=\"4\" valign=\"top\">5</th>\n",
       "      <th>1</th>\n",
       "      <td>4</td>\n",
       "      <td>4</td>\n",
       "    </tr>\n",
       "    <tr>\n",
       "      <th>2</th>\n",
       "      <td>4</td>\n",
       "      <td>4</td>\n",
       "    </tr>\n",
       "    <tr>\n",
       "      <th>3</th>\n",
       "      <td>1</td>\n",
       "      <td>1</td>\n",
       "    </tr>\n",
       "    <tr>\n",
       "      <th>4</th>\n",
       "      <td>1</td>\n",
       "      <td>1</td>\n",
       "    </tr>\n",
       "    <tr>\n",
       "      <th rowspan=\"20\" valign=\"top\">3</th>\n",
       "      <th rowspan=\"4\" valign=\"top\">1</th>\n",
       "      <th>1</th>\n",
       "      <td>53</td>\n",
       "      <td>53</td>\n",
       "    </tr>\n",
       "    <tr>\n",
       "      <th>2</th>\n",
       "      <td>100</td>\n",
       "      <td>100</td>\n",
       "    </tr>\n",
       "    <tr>\n",
       "      <th>3</th>\n",
       "      <td>51</td>\n",
       "      <td>51</td>\n",
       "    </tr>\n",
       "    <tr>\n",
       "      <th>4</th>\n",
       "      <td>25</td>\n",
       "      <td>25</td>\n",
       "    </tr>\n",
       "    <tr>\n",
       "      <th rowspan=\"4\" valign=\"top\">2</th>\n",
       "      <th>1</th>\n",
       "      <td>124</td>\n",
       "      <td>124</td>\n",
       "    </tr>\n",
       "    <tr>\n",
       "      <th>2</th>\n",
       "      <td>333</td>\n",
       "      <td>333</td>\n",
       "    </tr>\n",
       "    <tr>\n",
       "      <th>3</th>\n",
       "      <td>136</td>\n",
       "      <td>136</td>\n",
       "    </tr>\n",
       "    <tr>\n",
       "      <th>4</th>\n",
       "      <td>67</td>\n",
       "      <td>67</td>\n",
       "    </tr>\n",
       "    <tr>\n",
       "      <th rowspan=\"4\" valign=\"top\">3</th>\n",
       "      <th>1</th>\n",
       "      <td>102</td>\n",
       "      <td>102</td>\n",
       "    </tr>\n",
       "    <tr>\n",
       "      <th>2</th>\n",
       "      <td>254</td>\n",
       "      <td>254</td>\n",
       "    </tr>\n",
       "    <tr>\n",
       "      <th>3</th>\n",
       "      <td>86</td>\n",
       "      <td>86</td>\n",
       "    </tr>\n",
       "    <tr>\n",
       "      <th>4</th>\n",
       "      <td>43</td>\n",
       "      <td>43</td>\n",
       "    </tr>\n",
       "    <tr>\n",
       "      <th rowspan=\"4\" valign=\"top\">4</th>\n",
       "      <th>1</th>\n",
       "      <td>20</td>\n",
       "      <td>20</td>\n",
       "    </tr>\n",
       "    <tr>\n",
       "      <th>2</th>\n",
       "      <td>35</td>\n",
       "      <td>35</td>\n",
       "    </tr>\n",
       "    <tr>\n",
       "      <th>3</th>\n",
       "      <td>12</td>\n",
       "      <td>12</td>\n",
       "    </tr>\n",
       "    <tr>\n",
       "      <th>4</th>\n",
       "      <td>4</td>\n",
       "      <td>4</td>\n",
       "    </tr>\n",
       "    <tr>\n",
       "      <th rowspan=\"4\" valign=\"top\">5</th>\n",
       "      <th>1</th>\n",
       "      <td>8</td>\n",
       "      <td>8</td>\n",
       "    </tr>\n",
       "    <tr>\n",
       "      <th>2</th>\n",
       "      <td>9</td>\n",
       "      <td>9</td>\n",
       "    </tr>\n",
       "    <tr>\n",
       "      <th>3</th>\n",
       "      <td>5</td>\n",
       "      <td>5</td>\n",
       "    </tr>\n",
       "    <tr>\n",
       "      <th>4</th>\n",
       "      <td>1</td>\n",
       "      <td>1</td>\n",
       "    </tr>\n",
       "    <tr>\n",
       "      <th rowspan=\"20\" valign=\"top\">4</th>\n",
       "      <th rowspan=\"4\" valign=\"top\">1</th>\n",
       "      <th>1</th>\n",
       "      <td>16</td>\n",
       "      <td>16</td>\n",
       "    </tr>\n",
       "    <tr>\n",
       "      <th>2</th>\n",
       "      <td>16</td>\n",
       "      <td>16</td>\n",
       "    </tr>\n",
       "    <tr>\n",
       "      <th>3</th>\n",
       "      <td>9</td>\n",
       "      <td>9</td>\n",
       "    </tr>\n",
       "    <tr>\n",
       "      <th>4</th>\n",
       "      <td>5</td>\n",
       "      <td>5</td>\n",
       "    </tr>\n",
       "    <tr>\n",
       "      <th rowspan=\"4\" valign=\"top\">2</th>\n",
       "      <th>1</th>\n",
       "      <td>27</td>\n",
       "      <td>27</td>\n",
       "    </tr>\n",
       "    <tr>\n",
       "      <th>2</th>\n",
       "      <td>28</td>\n",
       "      <td>28</td>\n",
       "    </tr>\n",
       "    <tr>\n",
       "      <th>3</th>\n",
       "      <td>16</td>\n",
       "      <td>16</td>\n",
       "    </tr>\n",
       "    <tr>\n",
       "      <th>4</th>\n",
       "      <td>8</td>\n",
       "      <td>8</td>\n",
       "    </tr>\n",
       "    <tr>\n",
       "      <th rowspan=\"4\" valign=\"top\">3</th>\n",
       "      <th>1</th>\n",
       "      <td>27</td>\n",
       "      <td>27</td>\n",
       "    </tr>\n",
       "    <tr>\n",
       "      <th>2</th>\n",
       "      <td>33</td>\n",
       "      <td>33</td>\n",
       "    </tr>\n",
       "    <tr>\n",
       "      <th>3</th>\n",
       "      <td>18</td>\n",
       "      <td>18</td>\n",
       "    </tr>\n",
       "    <tr>\n",
       "      <th>4</th>\n",
       "      <td>8</td>\n",
       "      <td>8</td>\n",
       "    </tr>\n",
       "    <tr>\n",
       "      <th rowspan=\"4\" valign=\"top\">4</th>\n",
       "      <th>1</th>\n",
       "      <td>13</td>\n",
       "      <td>13</td>\n",
       "    </tr>\n",
       "    <tr>\n",
       "      <th>2</th>\n",
       "      <td>8</td>\n",
       "      <td>8</td>\n",
       "    </tr>\n",
       "    <tr>\n",
       "      <th>3</th>\n",
       "      <td>2</td>\n",
       "      <td>2</td>\n",
       "    </tr>\n",
       "    <tr>\n",
       "      <th>4</th>\n",
       "      <td>3</td>\n",
       "      <td>3</td>\n",
       "    </tr>\n",
       "    <tr>\n",
       "      <th rowspan=\"4\" valign=\"top\">5</th>\n",
       "      <th>1</th>\n",
       "      <td>3</td>\n",
       "      <td>3</td>\n",
       "    </tr>\n",
       "    <tr>\n",
       "      <th>2</th>\n",
       "      <td>2</td>\n",
       "      <td>2</td>\n",
       "    </tr>\n",
       "    <tr>\n",
       "      <th>3</th>\n",
       "      <td>1</td>\n",
       "      <td>1</td>\n",
       "    </tr>\n",
       "    <tr>\n",
       "      <th>4</th>\n",
       "      <td>1</td>\n",
       "      <td>1</td>\n",
       "    </tr>\n",
       "    <tr>\n",
       "      <th rowspan=\"19\" valign=\"top\">5</th>\n",
       "      <th rowspan=\"4\" valign=\"top\">1</th>\n",
       "      <th>1</th>\n",
       "      <td>9</td>\n",
       "      <td>9</td>\n",
       "    </tr>\n",
       "    <tr>\n",
       "      <th>2</th>\n",
       "      <td>8</td>\n",
       "      <td>8</td>\n",
       "    </tr>\n",
       "    <tr>\n",
       "      <th>3</th>\n",
       "      <td>3</td>\n",
       "      <td>3</td>\n",
       "    </tr>\n",
       "    <tr>\n",
       "      <th>4</th>\n",
       "      <td>4</td>\n",
       "      <td>4</td>\n",
       "    </tr>\n",
       "    <tr>\n",
       "      <th rowspan=\"3\" valign=\"top\">2</th>\n",
       "      <th>1</th>\n",
       "      <td>12</td>\n",
       "      <td>12</td>\n",
       "    </tr>\n",
       "    <tr>\n",
       "      <th>2</th>\n",
       "      <td>11</td>\n",
       "      <td>11</td>\n",
       "    </tr>\n",
       "    <tr>\n",
       "      <th>4</th>\n",
       "      <td>5</td>\n",
       "      <td>5</td>\n",
       "    </tr>\n",
       "    <tr>\n",
       "      <th rowspan=\"4\" valign=\"top\">3</th>\n",
       "      <th>1</th>\n",
       "      <td>12</td>\n",
       "      <td>12</td>\n",
       "    </tr>\n",
       "    <tr>\n",
       "      <th>2</th>\n",
       "      <td>12</td>\n",
       "      <td>12</td>\n",
       "    </tr>\n",
       "    <tr>\n",
       "      <th>3</th>\n",
       "      <td>5</td>\n",
       "      <td>5</td>\n",
       "    </tr>\n",
       "    <tr>\n",
       "      <th>4</th>\n",
       "      <td>1</td>\n",
       "      <td>1</td>\n",
       "    </tr>\n",
       "    <tr>\n",
       "      <th rowspan=\"4\" valign=\"top\">4</th>\n",
       "      <th>1</th>\n",
       "      <td>8</td>\n",
       "      <td>8</td>\n",
       "    </tr>\n",
       "    <tr>\n",
       "      <th>2</th>\n",
       "      <td>6</td>\n",
       "      <td>6</td>\n",
       "    </tr>\n",
       "    <tr>\n",
       "      <th>3</th>\n",
       "      <td>4</td>\n",
       "      <td>4</td>\n",
       "    </tr>\n",
       "    <tr>\n",
       "      <th>4</th>\n",
       "      <td>3</td>\n",
       "      <td>3</td>\n",
       "    </tr>\n",
       "    <tr>\n",
       "      <th rowspan=\"4\" valign=\"top\">5</th>\n",
       "      <th>1</th>\n",
       "      <td>6</td>\n",
       "      <td>6</td>\n",
       "    </tr>\n",
       "    <tr>\n",
       "      <th>2</th>\n",
       "      <td>2</td>\n",
       "      <td>2</td>\n",
       "    </tr>\n",
       "    <tr>\n",
       "      <th>3</th>\n",
       "      <td>1</td>\n",
       "      <td>1</td>\n",
       "    </tr>\n",
       "    <tr>\n",
       "      <th>4</th>\n",
       "      <td>1</td>\n",
       "      <td>1</td>\n",
       "    </tr>\n",
       "  </tbody>\n",
       "</table>\n",
       "</div>"
      ],
      "text/plain": [
       "                                                                      HHID  HIGHSPANLI\n",
       "ConfidentGetHealthInf OwnAbilityTakeCareHealth EverythingCauseCancer                  \n",
       "1                     1                        1                       164         164\n",
       "                                               2                       217         217\n",
       "                                               3                       114         114\n",
       "                                               4                       110         110\n",
       "                      2                        1                       109         109\n",
       "                                               2                       240         240\n",
       "                                               3                        94          94\n",
       "                                               4                        73          73\n",
       "                      3                        1                        46          46\n",
       "                                               2                        74          74\n",
       "                                               3                        22          22\n",
       "                                               4                        21          21\n",
       "                      4                        1                         8           8\n",
       "                                               2                         7           7\n",
       "                                               3                        11          11\n",
       "                                               4                         1           1\n",
       "                      5                        1                         4           4\n",
       "                                               2                         2           2\n",
       "                                               3                         2           2\n",
       "                                               4                         3           3\n",
       "2                     1                        1                        72          72\n",
       "                                               2                       203         203\n",
       "                                               3                        91          91\n",
       "                                               4                        66          66\n",
       "                      2                        1                       193         193\n",
       "                                               2                       519         519\n",
       "                                               3                       202         202\n",
       "                                               4                       132         132\n",
       "                      3                        1                        79          79\n",
       "                                               2                       193         193\n",
       "                                               3                        79          79\n",
       "                                               4                        47          47\n",
       "                      4                        1                         6           6\n",
       "                                               2                        21          21\n",
       "                                               3                         6           6\n",
       "                                               4                         4           4\n",
       "                      5                        1                         4           4\n",
       "                                               2                         4           4\n",
       "                                               3                         1           1\n",
       "                                               4                         1           1\n",
       "3                     1                        1                        53          53\n",
       "                                               2                       100         100\n",
       "                                               3                        51          51\n",
       "                                               4                        25          25\n",
       "                      2                        1                       124         124\n",
       "                                               2                       333         333\n",
       "                                               3                       136         136\n",
       "                                               4                        67          67\n",
       "                      3                        1                       102         102\n",
       "                                               2                       254         254\n",
       "                                               3                        86          86\n",
       "                                               4                        43          43\n",
       "                      4                        1                        20          20\n",
       "                                               2                        35          35\n",
       "                                               3                        12          12\n",
       "                                               4                         4           4\n",
       "                      5                        1                         8           8\n",
       "                                               2                         9           9\n",
       "                                               3                         5           5\n",
       "                                               4                         1           1\n",
       "4                     1                        1                        16          16\n",
       "                                               2                        16          16\n",
       "                                               3                         9           9\n",
       "                                               4                         5           5\n",
       "                      2                        1                        27          27\n",
       "                                               2                        28          28\n",
       "                                               3                        16          16\n",
       "                                               4                         8           8\n",
       "                      3                        1                        27          27\n",
       "                                               2                        33          33\n",
       "                                               3                        18          18\n",
       "                                               4                         8           8\n",
       "                      4                        1                        13          13\n",
       "                                               2                         8           8\n",
       "                                               3                         2           2\n",
       "                                               4                         3           3\n",
       "                      5                        1                         3           3\n",
       "                                               2                         2           2\n",
       "                                               3                         1           1\n",
       "                                               4                         1           1\n",
       "5                     1                        1                         9           9\n",
       "                                               2                         8           8\n",
       "                                               3                         3           3\n",
       "                                               4                         4           4\n",
       "                      2                        1                        12          12\n",
       "                                               2                        11          11\n",
       "                                               4                         5           5\n",
       "                      3                        1                        12          12\n",
       "                                               2                        12          12\n",
       "                                               3                         5           5\n",
       "                                               4                         1           1\n",
       "                      4                        1                         8           8\n",
       "                                               2                         6           6\n",
       "                                               3                         4           4\n",
       "                                               4                         3           3\n",
       "                      5                        1                         6           6\n",
       "                                               2                         2           2\n",
       "                                               3                         1           1\n",
       "                                               4                         1           1"
      ]
     },
     "execution_count": 24,
     "metadata": {
      "tags": []
     },
     "output_type": "execute_result"
    }
   ],
   "source": [
    "## ConfidentGetHealthInf vs OwnAbilityTakeCareHealth vs EverythingCauseCancer\n",
    "\n",
    "temp_df = new_df[(new_df['ConfidentGetHealthInf']>0) & (new_df['OwnAbilityTakeCareHealth']>0) & (new_df['EverythingCauseCancer']>0)]\n",
    "print(temp_df.shape)\n",
    "pd.set_option('display.max_rows', 100)\n",
    "temp_df.groupby(['ConfidentGetHealthInf','OwnAbilityTakeCareHealth', 'EverythingCauseCancer']).count().iloc[:,:2]"
   ]
  },
  {
   "cell_type": "code",
   "execution_count": 0,
   "metadata": {
    "colab": {
     "base_uri": "https://localhost:8080/",
     "height": 509
    },
    "colab_type": "code",
    "id": "8HZknFhyiUfy",
    "outputId": "7fa6c6a4-64e0-44d3-de26-870ef66a8b8f"
   },
   "outputs": [
    {
     "data": {
      "text/plain": [
       "<matplotlib.axes._subplots.AxesSubplot at 0x7f21f24511d0>"
      ]
     },
     "execution_count": 22,
     "metadata": {
      "tags": []
     },
     "output_type": "execute_result"
    },
    {
     "data": {
      "image/png": "[encoded data removed]",
      "text/plain": [
       "<Figure size 1800x504 with 1 Axes>"
      ]
     },
     "metadata": {
      "tags": []
     },
     "output_type": "display_data"
    }
   ],
   "source": [
    "temp = temp_df[['ConfidentGetHealthInf','OwnAbilityTakeCareHealth','EverythingCauseCancer','Frustrated']]\n",
    "temp.groupby(['ConfidentGetHealthInf','OwnAbilityTakeCareHealth','EverythingCauseCancer']).count().plot(kind='bar', figsize = (25,7))"
   ]
  },
  {
   "cell_type": "code",
   "execution_count": 0,
   "metadata": {
    "colab": {
     "base_uri": "https://localhost:8080/",
     "height": 68
    },
    "colab_type": "code",
    "id": "nFXW1KWl8N3B",
    "outputId": "31cbbc4d-fd72-49b0-a61b-672e141d1e55"
   },
   "outputs": [
    {
     "name": "stdout",
     "output_type": "stream",
     "text": [
      "(5438, 8) (5438,)\n",
      "[ 0.10258004 -0.00234426  0.13998701 -0.05531453 -0.03662636  0.0270888\n",
      "  0.09240143 -0.03251346]\n"
     ]
    }
   ],
   "source": [
    "y = new_df['ConfidentGetHealthInf']\n",
    "X = new_df[['OwnAbilityTakeCareHealth','EverythingCauseCancer','Frustrated','IntRsn_VisitedSocNet','IntRsn_SharedSocNet','IntRsn_WroteBlog','IntRsn_SupportGroup',\n",
    "'IntRsn_YouTube']]\n",
    "print(X.shape, y.shape)\n",
    "reg = linear_model.LinearRegression()\n",
    "reg_output = reg.fit(X,y)\n",
    "print(reg_output.coef_)"
   ]
  },
  {
   "cell_type": "code",
   "execution_count": 0,
   "metadata": {
    "colab": {
     "base_uri": "https://localhost:8080/",
     "height": 570
    },
    "colab_type": "code",
    "id": "bMlyWPCUAiYY",
    "outputId": "16f9e116-0e64-4906-a2d8-2837964aecb0"
   },
   "outputs": [
    {
     "data": {
      "text/html": [
       "<table class=\"simpletable\">\n",
       "<caption>OLS Regression Results</caption>\n",
       "<tr>\n",
       "  <th>Dep. Variable:</th>    <td>ConfidentGetHealthInf</td> <th>  R-squared (uncentered):</th>      <td>   0.452</td> \n",
       "</tr>\n",
       "<tr>\n",
       "  <th>Model:</th>                     <td>OLS</td>          <th>  Adj. R-squared (uncentered):</th> <td>   0.451</td> \n",
       "</tr>\n",
       "<tr>\n",
       "  <th>Method:</th>               <td>Least Squares</td>     <th>  F-statistic:       </th>          <td>   559.8</td> \n",
       "</tr>\n",
       "<tr>\n",
       "  <th>Date:</th>               <td>Wed, 26 Feb 2020</td>    <th>  Prob (F-statistic):</th>           <td>  0.00</td>  \n",
       "</tr>\n",
       "<tr>\n",
       "  <th>Time:</th>                   <td>01:08:24</td>        <th>  Log-Likelihood:    </th>          <td> -11574.</td> \n",
       "</tr>\n",
       "<tr>\n",
       "  <th>No. Observations:</th>        <td>  5438</td>         <th>  AIC:               </th>          <td>2.316e+04</td>\n",
       "</tr>\n",
       "<tr>\n",
       "  <th>Df Residuals:</th>            <td>  5430</td>         <th>  BIC:               </th>          <td>2.322e+04</td>\n",
       "</tr>\n",
       "<tr>\n",
       "  <th>Df Model:</th>                <td>     8</td>         <th>                     </th>              <td> </td>    \n",
       "</tr>\n",
       "<tr>\n",
       "  <th>Covariance Type:</th>        <td>nonrobust</td>       <th>                     </th>              <td> </td>    \n",
       "</tr>\n",
       "</table>\n",
       "<table class=\"simpletable\">\n",
       "<tr>\n",
       "              <td></td>                <th>coef</th>     <th>std err</th>      <th>t</th>      <th>P>|t|</th>  <th>[0.025</th>    <th>0.975]</th>  \n",
       "</tr>\n",
       "<tr>\n",
       "  <th>OwnAbilityTakeCareHealth</th> <td>    0.3168</td> <td>    0.015</td> <td>   20.749</td> <td> 0.000</td> <td>    0.287</td> <td>    0.347</td>\n",
       "</tr>\n",
       "<tr>\n",
       "  <th>EverythingCauseCancer</th>    <td>    0.0725</td> <td>    0.012</td> <td>    5.892</td> <td> 0.000</td> <td>    0.048</td> <td>    0.097</td>\n",
       "</tr>\n",
       "<tr>\n",
       "  <th>Frustrated</th>               <td>    0.1829</td> <td>    0.010</td> <td>   19.238</td> <td> 0.000</td> <td>    0.164</td> <td>    0.202</td>\n",
       "</tr>\n",
       "<tr>\n",
       "  <th>IntRsn_VisitedSocNet</th>     <td>   -0.0900</td> <td>    0.036</td> <td>   -2.491</td> <td> 0.013</td> <td>   -0.161</td> <td>   -0.019</td>\n",
       "</tr>\n",
       "<tr>\n",
       "  <th>IntRsn_SharedSocNet</th>      <td>    0.0247</td> <td>    0.041</td> <td>    0.608</td> <td> 0.543</td> <td>   -0.055</td> <td>    0.105</td>\n",
       "</tr>\n",
       "<tr>\n",
       "  <th>IntRsn_WroteBlog</th>         <td>    0.1288</td> <td>    0.042</td> <td>    3.045</td> <td> 0.002</td> <td>    0.046</td> <td>    0.212</td>\n",
       "</tr>\n",
       "<tr>\n",
       "  <th>IntRsn_SupportGroup</th>      <td>    0.2949</td> <td>    0.054</td> <td>    5.482</td> <td> 0.000</td> <td>    0.189</td> <td>    0.400</td>\n",
       "</tr>\n",
       "<tr>\n",
       "  <th>IntRsn_YouTube</th>           <td>   -0.0928</td> <td>    0.033</td> <td>   -2.794</td> <td> 0.005</td> <td>   -0.158</td> <td>   -0.028</td>\n",
       "</tr>\n",
       "</table>\n",
       "<table class=\"simpletable\">\n",
       "<tr>\n",
       "  <th>Omnibus:</th>       <td>2601.910</td> <th>  Durbin-Watson:     </th> <td>   1.936</td> \n",
       "</tr>\n",
       "<tr>\n",
       "  <th>Prob(Omnibus):</th>  <td> 0.000</td>  <th>  Jarque-Bera (JB):  </th> <td>33345.988</td>\n",
       "</tr>\n",
       "<tr>\n",
       "  <th>Skew:</th>           <td>-1.958</td>  <th>  Prob(JB):          </th> <td>    0.00</td> \n",
       "</tr>\n",
       "<tr>\n",
       "  <th>Kurtosis:</th>       <td>14.482</td>  <th>  Cond. No.          </th> <td>    12.4</td> \n",
       "</tr>\n",
       "</table><br/><br/>Warnings:<br/>[1] Standard Errors assume that the covariance matrix of the errors is correctly specified."
      ],
      "text/plain": [
       "<class 'statsmodels.iolib.summary.Summary'>\n",
       "\"\"\"\n",
       "                                  OLS Regression Results                                  \n",
       "==========================================================================================\n",
       "Dep. Variable:     ConfidentGetHealthInf   R-squared (uncentered):                   0.452\n",
       "Model:                               OLS   Adj. R-squared (uncentered):              0.451\n",
       "Method:                    Least Squares   F-statistic:                              559.8\n",
       "Date:                   Wed, 26 Feb 2020   Prob (F-statistic):                        0.00\n",
       "Time:                           01:08:24   Log-Likelihood:                         -11574.\n",
       "No. Observations:                   5438   AIC:                                  2.316e+04\n",
       "Df Residuals:                       5430   BIC:                                  2.322e+04\n",
       "Df Model:                              8                                                  \n",
       "Covariance Type:               nonrobust                                                  \n",
       "============================================================================================\n",
       "                               coef    std err          t      P>|t|      [0.025      0.975]\n",
       "--------------------------------------------------------------------------------------------\n",
       "OwnAbilityTakeCareHealth     0.3168      0.015     20.749      0.000       0.287       0.347\n",
       "EverythingCauseCancer        0.0725      0.012      5.892      0.000       0.048       0.097\n",
       "Frustrated                   0.1829      0.010     19.238      0.000       0.164       0.202\n",
       "IntRsn_VisitedSocNet        -0.0900      0.036     -2.491      0.013      -0.161      -0.019\n",
       "IntRsn_SharedSocNet          0.0247      0.041      0.608      0.543      -0.055       0.105\n",
       "IntRsn_WroteBlog             0.1288      0.042      3.045      0.002       0.046       0.212\n",
       "IntRsn_SupportGroup          0.2949      0.054      5.482      0.000       0.189       0.400\n",
       "IntRsn_YouTube              -0.0928      0.033     -2.794      0.005      -0.158      -0.028\n",
       "==============================================================================\n",
       "Omnibus:                     2601.910   Durbin-Watson:                   1.936\n",
       "Prob(Omnibus):                  0.000   Jarque-Bera (JB):            33345.988\n",
       "Skew:                          -1.958   Prob(JB):                         0.00\n",
       "Kurtosis:                      14.482   Cond. No.                         12.4\n",
       "==============================================================================\n",
       "\n",
       "Warnings:\n",
       "[1] Standard Errors assume that the covariance matrix of the errors is correctly specified.\n",
       "\"\"\""
      ]
     },
     "execution_count": 32,
     "metadata": {
      "tags": []
     },
     "output_type": "execute_result"
    }
   ],
   "source": [
    "linear_regression = sm.OLS(y, X)\n",
    "fitted_model = linear_regression.fit()\n",
    "fitted_model.summary()"
   ]
  },
  {
   "cell_type": "code",
   "execution_count": 0,
   "metadata": {
    "colab": {
     "base_uri": "https://localhost:8080/",
     "height": 51
    },
    "colab_type": "code",
    "id": "tI1BZ-5BCbyG",
    "outputId": "2c6ce91b-a06d-405b-867e-fcff89f1f16d"
   },
   "outputs": [
    {
     "name": "stdout",
     "output_type": "stream",
     "text": [
      "(5438, 6) (5438,)\n",
      "[ 0.22690663  0.01168242  0.14689914 -0.00600704 -0.2095721   0.000774  ]\n"
     ]
    }
   ],
   "source": [
    "y1 = new_df['ConfidentGetHealthInf']\n",
    "X1 = new_df[['OwnAbilityTakeCareHealth','EverythingCauseCancer','Frustrated','GeneralHealth','AvoidDoc','TalkHealthFriends']]\n",
    "print(X1.shape, y1.shape)\n",
    "reg = linear_model.LinearRegression()\n",
    "reg_output1 = reg.fit(X1,y1)\n",
    "print(reg_output1.coef_)"
   ]
  },
  {
   "cell_type": "code",
   "execution_count": 0,
   "metadata": {
    "colab": {
     "base_uri": "https://localhost:8080/",
     "height": 528
    },
    "colab_type": "code",
    "id": "fEddjk8QC3XQ",
    "outputId": "f2bb7024-a3b9-49d2-c7ce-8e14bec73adc"
   },
   "outputs": [
    {
     "data": {
      "text/html": [
       "<table class=\"simpletable\">\n",
       "<caption>OLS Regression Results</caption>\n",
       "<tr>\n",
       "  <th>Dep. Variable:</th>    <td>ConfidentGetHealthInf</td> <th>  R-squared (uncentered):</th>      <td>   0.441</td> \n",
       "</tr>\n",
       "<tr>\n",
       "  <th>Model:</th>                     <td>OLS</td>          <th>  Adj. R-squared (uncentered):</th> <td>   0.441</td> \n",
       "</tr>\n",
       "<tr>\n",
       "  <th>Method:</th>               <td>Least Squares</td>     <th>  F-statistic:       </th>          <td>   715.3</td> \n",
       "</tr>\n",
       "<tr>\n",
       "  <th>Date:</th>               <td>Wed, 26 Feb 2020</td>    <th>  Prob (F-statistic):</th>           <td>  0.00</td>  \n",
       "</tr>\n",
       "<tr>\n",
       "  <th>Time:</th>                   <td>01:10:28</td>        <th>  Log-Likelihood:    </th>          <td> -11626.</td> \n",
       "</tr>\n",
       "<tr>\n",
       "  <th>No. Observations:</th>        <td>  5438</td>         <th>  AIC:               </th>          <td>2.326e+04</td>\n",
       "</tr>\n",
       "<tr>\n",
       "  <th>Df Residuals:</th>            <td>  5432</td>         <th>  BIC:               </th>          <td>2.330e+04</td>\n",
       "</tr>\n",
       "<tr>\n",
       "  <th>Df Model:</th>                <td>     6</td>         <th>                     </th>              <td> </td>    \n",
       "</tr>\n",
       "<tr>\n",
       "  <th>Covariance Type:</th>        <td>nonrobust</td>       <th>                     </th>              <td> </td>    \n",
       "</tr>\n",
       "</table>\n",
       "<table class=\"simpletable\">\n",
       "<tr>\n",
       "              <td></td>                <th>coef</th>     <th>std err</th>      <th>t</th>      <th>P>|t|</th>  <th>[0.025</th>    <th>0.975]</th>  \n",
       "</tr>\n",
       "<tr>\n",
       "  <th>OwnAbilityTakeCareHealth</th> <td>    0.3016</td> <td>    0.029</td> <td>   10.395</td> <td> 0.000</td> <td>    0.245</td> <td>    0.358</td>\n",
       "</tr>\n",
       "<tr>\n",
       "  <th>EverythingCauseCancer</th>    <td>    0.1155</td> <td>    0.012</td> <td>    9.405</td> <td> 0.000</td> <td>    0.091</td> <td>    0.140</td>\n",
       "</tr>\n",
       "<tr>\n",
       "  <th>Frustrated</th>               <td>    0.2116</td> <td>    0.009</td> <td>   22.519</td> <td> 0.000</td> <td>    0.193</td> <td>    0.230</td>\n",
       "</tr>\n",
       "<tr>\n",
       "  <th>GeneralHealth</th>            <td>    0.2850</td> <td>    0.024</td> <td>   11.911</td> <td> 0.000</td> <td>    0.238</td> <td>    0.332</td>\n",
       "</tr>\n",
       "<tr>\n",
       "  <th>AvoidDoc</th>                 <td>    0.0035</td> <td>    0.033</td> <td>    0.105</td> <td> 0.916</td> <td>   -0.062</td> <td>    0.069</td>\n",
       "</tr>\n",
       "<tr>\n",
       "  <th>TalkHealthFriends</th>        <td>   -0.2870</td> <td>    0.035</td> <td>   -8.206</td> <td> 0.000</td> <td>   -0.356</td> <td>   -0.218</td>\n",
       "</tr>\n",
       "</table>\n",
       "<table class=\"simpletable\">\n",
       "<tr>\n",
       "  <th>Omnibus:</th>       <td>2599.028</td> <th>  Durbin-Watson:     </th> <td>   1.923</td> \n",
       "</tr>\n",
       "<tr>\n",
       "  <th>Prob(Omnibus):</th>  <td> 0.000</td>  <th>  Jarque-Bera (JB):  </th> <td>29968.529</td>\n",
       "</tr>\n",
       "<tr>\n",
       "  <th>Skew:</th>           <td>-1.992</td>  <th>  Prob(JB):          </th> <td>    0.00</td> \n",
       "</tr>\n",
       "<tr>\n",
       "  <th>Kurtosis:</th>       <td>13.788</td>  <th>  Cond. No.          </th> <td>    7.94</td> \n",
       "</tr>\n",
       "</table><br/><br/>Warnings:<br/>[1] Standard Errors assume that the covariance matrix of the errors is correctly specified."
      ],
      "text/plain": [
       "<class 'statsmodels.iolib.summary.Summary'>\n",
       "\"\"\"\n",
       "                                  OLS Regression Results                                  \n",
       "==========================================================================================\n",
       "Dep. Variable:     ConfidentGetHealthInf   R-squared (uncentered):                   0.441\n",
       "Model:                               OLS   Adj. R-squared (uncentered):              0.441\n",
       "Method:                    Least Squares   F-statistic:                              715.3\n",
       "Date:                   Wed, 26 Feb 2020   Prob (F-statistic):                        0.00\n",
       "Time:                           01:10:28   Log-Likelihood:                         -11626.\n",
       "No. Observations:                   5438   AIC:                                  2.326e+04\n",
       "Df Residuals:                       5432   BIC:                                  2.330e+04\n",
       "Df Model:                              6                                                  \n",
       "Covariance Type:               nonrobust                                                  \n",
       "============================================================================================\n",
       "                               coef    std err          t      P>|t|      [0.025      0.975]\n",
       "--------------------------------------------------------------------------------------------\n",
       "OwnAbilityTakeCareHealth     0.3016      0.029     10.395      0.000       0.245       0.358\n",
       "EverythingCauseCancer        0.1155      0.012      9.405      0.000       0.091       0.140\n",
       "Frustrated                   0.2116      0.009     22.519      0.000       0.193       0.230\n",
       "GeneralHealth                0.2850      0.024     11.911      0.000       0.238       0.332\n",
       "AvoidDoc                     0.0035      0.033      0.105      0.916      -0.062       0.069\n",
       "TalkHealthFriends           -0.2870      0.035     -8.206      0.000      -0.356      -0.218\n",
       "==============================================================================\n",
       "Omnibus:                     2599.028   Durbin-Watson:                   1.923\n",
       "Prob(Omnibus):                  0.000   Jarque-Bera (JB):            29968.529\n",
       "Skew:                          -1.992   Prob(JB):                         0.00\n",
       "Kurtosis:                      13.788   Cond. No.                         7.94\n",
       "==============================================================================\n",
       "\n",
       "Warnings:\n",
       "[1] Standard Errors assume that the covariance matrix of the errors is correctly specified.\n",
       "\"\"\""
      ]
     },
     "execution_count": 38,
     "metadata": {
      "tags": []
     },
     "output_type": "execute_result"
    }
   ],
   "source": [
    "linear_regression = sm.OLS(y1, X1)\n",
    "fitted_model = linear_regression.fit()\n",
    "fitted_model.summary()"
   ]
  },
  {
   "cell_type": "code",
   "execution_count": 0,
   "metadata": {
    "colab": {
     "base_uri": "https://localhost:8080/",
     "height": 68
    },
    "colab_type": "code",
    "id": "ycDXesPaA6Sk",
    "outputId": "e39cbd08-57cf-4627-94f2-673427659248"
   },
   "outputs": [
    {
     "name": "stdout",
     "output_type": "stream",
     "text": [
      "(5438, 11) (5438,)\n",
      "[ 0.2250038   0.01073978  0.14422649 -0.05283662 -0.04197749  0.02074025\n",
      "  0.10340946 -0.0314157  -0.00392598 -0.21071203  0.00041217]\n"
     ]
    }
   ],
   "source": [
    "y2 = new_df['ConfidentGetHealthInf']\n",
    "X2 = new_df[['OwnAbilityTakeCareHealth','EverythingCauseCancer','Frustrated','IntRsn_VisitedSocNet','IntRsn_SharedSocNet',\n",
    "             'IntRsn_WroteBlog','IntRsn_SupportGroup','IntRsn_YouTube','GeneralHealth','AvoidDoc','TalkHealthFriends']]\n",
    "print(X2.shape, y2.shape)\n",
    "reg = linear_model.LinearRegression()\n",
    "reg_output2 = reg.fit(X2,y2)\n",
    "print(reg_output2.coef_)"
   ]
  },
  {
   "cell_type": "code",
   "execution_count": 0,
   "metadata": {
    "colab": {
     "base_uri": "https://localhost:8080/",
     "height": 633
    },
    "colab_type": "code",
    "id": "R1HypjL9CRRy",
    "outputId": "a4c5e8b5-c93e-4769-8363-8b192ca6ccc0"
   },
   "outputs": [
    {
     "data": {
      "text/html": [
       "<table class=\"simpletable\">\n",
       "<caption>OLS Regression Results</caption>\n",
       "<tr>\n",
       "  <th>Dep. Variable:</th>    <td>ConfidentGetHealthInf</td> <th>  R-squared (uncentered):</th>      <td>   0.466</td> \n",
       "</tr>\n",
       "<tr>\n",
       "  <th>Model:</th>                     <td>OLS</td>          <th>  Adj. R-squared (uncentered):</th> <td>   0.465</td> \n",
       "</tr>\n",
       "<tr>\n",
       "  <th>Method:</th>               <td>Least Squares</td>     <th>  F-statistic:       </th>          <td>   429.9</td> \n",
       "</tr>\n",
       "<tr>\n",
       "  <th>Date:</th>               <td>Wed, 26 Feb 2020</td>    <th>  Prob (F-statistic):</th>           <td>  0.00</td>  \n",
       "</tr>\n",
       "<tr>\n",
       "  <th>Time:</th>                   <td>01:11:05</td>        <th>  Log-Likelihood:    </th>          <td> -11505.</td> \n",
       "</tr>\n",
       "<tr>\n",
       "  <th>No. Observations:</th>        <td>  5438</td>         <th>  AIC:               </th>          <td>2.303e+04</td>\n",
       "</tr>\n",
       "<tr>\n",
       "  <th>Df Residuals:</th>            <td>  5427</td>         <th>  BIC:               </th>          <td>2.310e+04</td>\n",
       "</tr>\n",
       "<tr>\n",
       "  <th>Df Model:</th>                <td>    11</td>         <th>                     </th>              <td> </td>    \n",
       "</tr>\n",
       "<tr>\n",
       "  <th>Covariance Type:</th>        <td>nonrobust</td>       <th>                     </th>              <td> </td>    \n",
       "</tr>\n",
       "</table>\n",
       "<table class=\"simpletable\">\n",
       "<tr>\n",
       "              <td></td>                <th>coef</th>     <th>std err</th>      <th>t</th>      <th>P>|t|</th>  <th>[0.025</th>    <th>0.975]</th>  \n",
       "</tr>\n",
       "<tr>\n",
       "  <th>OwnAbilityTakeCareHealth</th> <td>    0.2653</td> <td>    0.028</td> <td>    9.314</td> <td> 0.000</td> <td>    0.209</td> <td>    0.321</td>\n",
       "</tr>\n",
       "<tr>\n",
       "  <th>EverythingCauseCancer</th>    <td>    0.0722</td> <td>    0.012</td> <td>    5.843</td> <td> 0.000</td> <td>    0.048</td> <td>    0.096</td>\n",
       "</tr>\n",
       "<tr>\n",
       "  <th>Frustrated</th>               <td>    0.1800</td> <td>    0.009</td> <td>   19.061</td> <td> 0.000</td> <td>    0.162</td> <td>    0.199</td>\n",
       "</tr>\n",
       "<tr>\n",
       "  <th>IntRsn_VisitedSocNet</th>     <td>   -0.1047</td> <td>    0.036</td> <td>   -2.930</td> <td> 0.003</td> <td>   -0.175</td> <td>   -0.035</td>\n",
       "</tr>\n",
       "<tr>\n",
       "  <th>IntRsn_SharedSocNet</th>      <td>    0.0238</td> <td>    0.040</td> <td>    0.591</td> <td> 0.554</td> <td>   -0.055</td> <td>    0.103</td>\n",
       "</tr>\n",
       "<tr>\n",
       "  <th>IntRsn_WroteBlog</th>         <td>    0.1237</td> <td>    0.042</td> <td>    2.960</td> <td> 0.003</td> <td>    0.042</td> <td>    0.206</td>\n",
       "</tr>\n",
       "<tr>\n",
       "  <th>IntRsn_SupportGroup</th>      <td>    0.2662</td> <td>    0.053</td> <td>    4.995</td> <td> 0.000</td> <td>    0.162</td> <td>    0.371</td>\n",
       "</tr>\n",
       "<tr>\n",
       "  <th>IntRsn_YouTube</th>           <td>   -0.0769</td> <td>    0.033</td> <td>   -2.340</td> <td> 0.019</td> <td>   -0.141</td> <td>   -0.012</td>\n",
       "</tr>\n",
       "<tr>\n",
       "  <th>GeneralHealth</th>            <td>    0.2203</td> <td>    0.024</td> <td>    9.238</td> <td> 0.000</td> <td>    0.174</td> <td>    0.267</td>\n",
       "</tr>\n",
       "<tr>\n",
       "  <th>AvoidDoc</th>                 <td>   -0.0441</td> <td>    0.033</td> <td>   -1.347</td> <td> 0.178</td> <td>   -0.108</td> <td>    0.020</td>\n",
       "</tr>\n",
       "<tr>\n",
       "  <th>TalkHealthFriends</th>        <td>   -0.2394</td> <td>    0.034</td> <td>   -6.960</td> <td> 0.000</td> <td>   -0.307</td> <td>   -0.172</td>\n",
       "</tr>\n",
       "</table>\n",
       "<table class=\"simpletable\">\n",
       "<tr>\n",
       "  <th>Omnibus:</th>       <td>2831.753</td> <th>  Durbin-Watson:     </th> <td>   1.955</td> \n",
       "</tr>\n",
       "<tr>\n",
       "  <th>Prob(Omnibus):</th>  <td> 0.000</td>  <th>  Jarque-Bera (JB):  </th> <td>35550.871</td>\n",
       "</tr>\n",
       "<tr>\n",
       "  <th>Skew:</th>           <td>-2.199</td>  <th>  Prob(JB):          </th> <td>    0.00</td> \n",
       "</tr>\n",
       "<tr>\n",
       "  <th>Kurtosis:</th>       <td>14.728</td>  <th>  Cond. No.          </th> <td>    14.4</td> \n",
       "</tr>\n",
       "</table><br/><br/>Warnings:<br/>[1] Standard Errors assume that the covariance matrix of the errors is correctly specified."
      ],
      "text/plain": [
       "<class 'statsmodels.iolib.summary.Summary'>\n",
       "\"\"\"\n",
       "                                  OLS Regression Results                                  \n",
       "==========================================================================================\n",
       "Dep. Variable:     ConfidentGetHealthInf   R-squared (uncentered):                   0.466\n",
       "Model:                               OLS   Adj. R-squared (uncentered):              0.465\n",
       "Method:                    Least Squares   F-statistic:                              429.9\n",
       "Date:                   Wed, 26 Feb 2020   Prob (F-statistic):                        0.00\n",
       "Time:                           01:11:05   Log-Likelihood:                         -11505.\n",
       "No. Observations:                   5438   AIC:                                  2.303e+04\n",
       "Df Residuals:                       5427   BIC:                                  2.310e+04\n",
       "Df Model:                             11                                                  \n",
       "Covariance Type:               nonrobust                                                  \n",
       "============================================================================================\n",
       "                               coef    std err          t      P>|t|      [0.025      0.975]\n",
       "--------------------------------------------------------------------------------------------\n",
       "OwnAbilityTakeCareHealth     0.2653      0.028      9.314      0.000       0.209       0.321\n",
       "EverythingCauseCancer        0.0722      0.012      5.843      0.000       0.048       0.096\n",
       "Frustrated                   0.1800      0.009     19.061      0.000       0.162       0.199\n",
       "IntRsn_VisitedSocNet        -0.1047      0.036     -2.930      0.003      -0.175      -0.035\n",
       "IntRsn_SharedSocNet          0.0238      0.040      0.591      0.554      -0.055       0.103\n",
       "IntRsn_WroteBlog             0.1237      0.042      2.960      0.003       0.042       0.206\n",
       "IntRsn_SupportGroup          0.2662      0.053      4.995      0.000       0.162       0.371\n",
       "IntRsn_YouTube              -0.0769      0.033     -2.340      0.019      -0.141      -0.012\n",
       "GeneralHealth                0.2203      0.024      9.238      0.000       0.174       0.267\n",
       "AvoidDoc                    -0.0441      0.033     -1.347      0.178      -0.108       0.020\n",
       "TalkHealthFriends           -0.2394      0.034     -6.960      0.000      -0.307      -0.172\n",
       "==============================================================================\n",
       "Omnibus:                     2831.753   Durbin-Watson:                   1.955\n",
       "Prob(Omnibus):                  0.000   Jarque-Bera (JB):            35550.871\n",
       "Skew:                          -2.199   Prob(JB):                         0.00\n",
       "Kurtosis:                      14.728   Cond. No.                         14.4\n",
       "==============================================================================\n",
       "\n",
       "Warnings:\n",
       "[1] Standard Errors assume that the covariance matrix of the errors is correctly specified.\n",
       "\"\"\""
      ]
     },
     "execution_count": 40,
     "metadata": {
      "tags": []
     },
     "output_type": "execute_result"
    }
   ],
   "source": [
    "linear_regression = sm.OLS(y2, X2)\n",
    "fitted_model = linear_regression.fit()\n",
    "fitted_model.summary()"
   ]
  },
  {
   "cell_type": "code",
   "execution_count": 0,
   "metadata": {
    "colab": {},
    "colab_type": "code",
    "id": "l_VJp0zICvnZ"
   },
   "outputs": [],
   "source": []
  }
 ],
 "metadata": {
  "accelerator": "GPU",
  "colab": {
   "collapsed_sections": [],
   "include_colab_link": true,
   "name": "Part_4.ipynb",
   "provenance": []
  },
  "kernelspec": {
   "display_name": "Python 3",
   "language": "python",
   "name": "python3"
  },
  "language_info": {
   "codemirror_mode": {
    "name": "ipython",
    "version": 3
   },
   "file_extension": ".py",
   "mimetype": "text/x-python",
   "name": "python",
   "nbconvert_exporter": "python",
   "pygments_lexer": "ipython3",
   "version": "3.7.4"
  }
 },
 "nbformat": 4,
 "nbformat_minor": 1
}
