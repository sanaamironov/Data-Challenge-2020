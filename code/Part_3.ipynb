{
 "cells": [
  {
   "cell_type": "markdown",
   "metadata": {
    "colab_type": "text",
    "id": "view-in-github"
   },
   "source": [
    "<a href=\"https://colab.research.google.com/github/Sandesh10/Data-Challenge-2020/blob/master/Part_3.ipynb\" target=\"_parent\"><img src=\"https://colab.research.google.com/assets/colab-badge.svg\" alt=\"Open In Colab\"/></a>"
   ]
  },
  {
   "cell_type": "markdown",
   "metadata": {
    "colab_type": "text",
    "id": "_Jfqd9WKYmIh"
   },
   "source": [
    "# Team : DS20063\n"
   ]
  },
  {
   "cell_type": "markdown",
   "metadata": {
    "colab_type": "text",
    "id": "L88IihV43hMx"
   },
   "source": [
    "The types of behaviors more deeply explored in\n",
    "Cycle 3 include:\n",
    "\n",
    " Sun safety and sun protection activities;\n",
    "\n",
    " Dietary intake and attention to calorie labels on restaurant menus;\n",
    "\n",
    " Alcohol consumption and the negative effects of alcohol;\n",
    "\n",
    " Physical activity, sedentary activity, and awareness of physical activity guidelines;\n",
    "\n",
    " Sleep patterns; and\n",
    "\n",
    " Tobacco use, e-cigarette use, and attitudes about e-cigarettes."
   ]
  },
  {
   "cell_type": "code",
   "execution_count": 0,
   "metadata": {
    "colab": {},
    "colab_type": "code",
    "id": "_x5CzbtX3ju0"
   },
   "outputs": [],
   "source": [
    "import pandas as pd\n",
    "import numpy as np\n",
    "import matplotlib.pyplot as plt\n",
    "import seaborn as sns\n",
    "\n",
    "from sklearn import linear_model, metrics\n",
    "import statsmodels.api as sm\n",
    "from statsmodels.stats.outliers_influence import variance_inflation_factor\n",
    "\n",
    "from sklearn.decomposition import PCA"
   ]
  },
  {
   "cell_type": "code",
   "execution_count": 0,
   "metadata": {
    "colab": {},
    "colab_type": "code",
    "id": "-NOi3s7b4flC"
   },
   "outputs": [],
   "source": [
    "df = pd.read_excel('data_level4.xlsx')"
   ]
  },
  {
   "cell_type": "code",
   "execution_count": 0,
   "metadata": {
    "colab": {},
    "colab_type": "code",
    "id": "tqsP23QZqG6V"
   },
   "outputs": [],
   "source": [
    "'''\n",
    "    Preprocessing steps:\n",
    "    1. Removing all the columns after index 359. This includes all columns after `MAILNUM` column. \n",
    "    2. Remove all the columns with object datatype. \n",
    "'''\n",
    "def preprocess_df(df):\n",
    "  remove_df = df.iloc[:,359:]\n",
    "  df = df.drop(remove_df.columns, axis=1)\n",
    "  object_cols = list(df.select_dtypes(include=['object']).columns)\n",
    "  print('Removing following columns', object_cols)\n",
    "  date_cols = list(df.select_dtypes(include=['datetime']).columns)\n",
    "  print('Removing following columns', date_cols)\n",
    "  new_df = df.drop(object_cols, axis=1)\n",
    "  new_df = new_df.drop(date_cols, axis=1)\n",
    "  print('Removing column : Prompt . [P.S. This contains NaN]')\n",
    "  new_df = new_df.drop(['Prompt'],axis =1)\n",
    "  print(\"New dataframe shape \", new_df.shape)\n",
    "  return new_df"
   ]
  },
  {
   "cell_type": "code",
   "execution_count": 0,
   "metadata": {
    "colab": {
     "base_uri": "https://localhost:8080/",
     "height": 105
    },
    "colab_type": "code",
    "id": "bfNQmzeZsG_c",
    "outputId": "02a40015-891b-4ff3-a53e-2750067a4452"
   },
   "outputs": [
    {
     "name": "stdout",
     "output_type": "stream",
     "text": [
      "Removing following columns ['PersonID', 'Stratum', 'APP_REGION', 'VAR_STRATUM', 'StrongNeedHealthInfo_OS', 'HealthIns_Other_OS', 'Caregiving_Other_OS', 'CaOther_OS', 'SexualOrientation_OS']\n",
      "Removing following columns ['UpdateDate']\n",
      "Removing column : Prompt . [P.S. This contains NaN]\n",
      "New dataframe shape  (5438, 348)\n"
     ]
    }
   ],
   "source": [
    "new_df = preprocess_df(df)"
   ]
  },
  {
   "cell_type": "code",
   "execution_count": 0,
   "metadata": {
    "colab": {},
    "colab_type": "code",
    "id": "bgEFcv89uO7P"
   },
   "outputs": [],
   "source": [
    "def create_bar_plot(df,col_ls_1,col_ls_2, figsize = (15,7)):\n",
    "  temp = df[col_ls_2]\n",
    "  temp.groupby(col_ls_1).count().plot(kind='bar', figsize = figsize)\n",
    "\n",
    "def analyse_data(df,col_1, col_2, col_3):\n",
    "  #removing the rows with missing data\n",
    "  temp_df = df[df[col_1]>0]\n",
    "  print(\"Shape after Filtering \",col_1,\" : \",temp_df.shape)\n",
    "\n",
    "  #removing the rows with missing data\n",
    "  temp_df_2 = temp_df[temp_df[col_2]>0]\n",
    "  print(\"Shape after Filtering \",col_2,\" : \",temp_df_2.shape)\n",
    "  res = temp_df_2.groupby([col_1,col_2]).count()\n",
    "  print(res)\n",
    "  create_bar_plot(temp_df_2, [col_1,col_2], [col_1,col_2, col_3])\n",
    "  print('Done!!')\n"
   ]
  },
  {
   "cell_type": "markdown",
   "metadata": {
    "colab_type": "text",
    "id": "mcjfuhQN1fgG"
   },
   "source": [
    "How does feeling depressed or anxious (F11) relate to people’s health-related\n",
    "information seeking [see RQ 1 above for suggestions of relevant survey questions]? For\n",
    "example, do people who feel depressed or anxious report encountering more barriers\n",
    "during their search for health information?"
   ]
  },
  {
   "cell_type": "code",
   "execution_count": 0,
   "metadata": {
    "colab": {
     "base_uri": "https://localhost:8080/",
     "height": 714
    },
    "colab_type": "code",
    "id": "0wLsAZ2ow3pE",
    "outputId": "be80012e-b426-49cf-9783-bf69267e2716"
   },
   "outputs": [
    {
     "name": "stdout",
     "output_type": "stream",
     "text": [
      "Shape after Filtering  LittleInterest  :  (5318, 348)\n",
      "Shape after Filtering  SeekHealthInfo  :  (5231, 348)\n",
      "                               HHID  HIGHSPANLI  ...  IncomeFeelings  MAILNUM\n",
      "LittleInterest SeekHealthInfo                    ...                         \n",
      "1              1                220         220  ...             220      220\n",
      "               2                 76          76  ...              76       76\n",
      "2              1                263         263  ...             263      263\n",
      "               2                 88          88  ...              88       88\n",
      "3              1                931         931  ...             931      931\n",
      "               2                153         153  ...             153      153\n",
      "4              1               2810        2810  ...            2810     2810\n",
      "               2                690         690  ...             690      690\n",
      "\n",
      "[8 rows x 346 columns]\n",
      "Done!!\n"
     ]
    },
    {
     "data": {
      "image/png": "[encoded data removed]",
      "text/plain": [
       "<Figure size 1080x504 with 1 Axes>"
      ]
     },
     "metadata": {
      "tags": []
     },
     "output_type": "display_data"
    }
   ],
   "source": [
    "'''\n",
    "  LittleInterest\n",
    "\n",
    "  F11a. Over the past 2 weeks, how often have you been bothered by: Little interest or pleasure in doing things?\n",
    "\n",
    "    1. Nearly every day         2. More than half the days\n",
    "    3. Several days             4. Not at all\n",
    "\n",
    "  SeekHealthInfo\n",
    "\n",
    "  A1. Have you ever looked for information about health or medical topics from any source?\n",
    "      1.  Yes       2. No\n",
    "'''\n",
    "\n",
    "analyse_data(new_df,'LittleInterest','SeekHealthInfo','WhereSeekHealthInfo')"
   ]
  },
  {
   "cell_type": "code",
   "execution_count": 0,
   "metadata": {
    "colab": {
     "base_uri": "https://localhost:8080/",
     "height": 726
    },
    "colab_type": "code",
    "id": "mIG3U8r6LKSH",
    "outputId": "6fc852d6-93a4-40d7-f952-e6a71e3d5c70"
   },
   "outputs": [
    {
     "name": "stderr",
     "output_type": "stream",
     "text": [
      "/usr/local/lib/python3.6/dist-packages/ipykernel_launcher.py:2: SettingWithCopyWarning: \n",
      "A value is trying to be set on a copy of a slice from a DataFrame.\n",
      "Try using .loc[row_indexer,col_indexer] = value instead\n",
      "\n",
      "See the caveats in the documentation: http://pandas.pydata.org/pandas-docs/stable/user_guide/indexing.html#returning-a-view-versus-a-copy\n",
      "  \n"
     ]
    },
    {
     "name": "stdout",
     "output_type": "stream",
     "text": [
      "(5309, 348)\n",
      "                        HHID  HIGHSPANLI  ...  IncomeFeelings  MAILNUM\n",
      "Nervous SeekHealthInfo                    ...                         \n",
      "1       1                446         446  ...             446      446\n",
      "        2                121         121  ...             121      121\n",
      "2       1               1147        1147  ...            1147     1147\n",
      "        2                166         166  ...             166      166\n",
      "3       1               2624        2624  ...            2624     2624\n",
      "        2                719         719  ...             719      719\n",
      "\n",
      "[6 rows x 346 columns]\n"
     ]
    },
    {
     "data": {
      "text/plain": [
       "<matplotlib.axes._subplots.AxesSubplot at 0x7f95dabeea90>"
      ]
     },
     "execution_count": 10,
     "metadata": {
      "tags": []
     },
     "output_type": "execute_result"
    },
    {
     "data": {
      "image/png": "[encoded data removed]",
      "text/plain": [
       "<Figure size 720x432 with 1 Axes>"
      ]
     },
     "metadata": {
      "tags": []
     },
     "output_type": "display_data"
    }
   ],
   "source": [
    "new_df2 = new_df[new_df['Nervous']>0]\n",
    "new_df2['Nervous'] = new_df2['Nervous'].apply(lambda x: 1 if x<=2 else (x-1))\n",
    "print(new_df2.shape)\n",
    "new_df3 = new_df2[new_df2['SeekHealthInfo']>0]\n",
    "# new_df3['AvoidDoc'] = new_df3['AvoidDoc'].apply(lambda x: 1 if x<=2 else (2 if x>2 and x<=4 else 3))\n",
    "print(new_df3.groupby(['Nervous','SeekHealthInfo']).count())\n",
    "temp = new_df3[['Nervous','SeekHealthInfo','OwnAbilityTakeCareHealth']]\n",
    "temp.groupby(['Nervous','SeekHealthInfo']).count().unstack(level=1).plot.bar(stacked=True,\n",
    "              title='Use of electronic device in looking for health or medical information',figsize = (10,6))"
   ]
  },
  {
   "cell_type": "code",
   "execution_count": 0,
   "metadata": {
    "colab": {
     "base_uri": "https://localhost:8080/",
     "height": 714
    },
    "colab_type": "code",
    "id": "vuVhL3Ce1eFq",
    "outputId": "dc62d9ce-f791-413b-d418-6f5f521d07cb"
   },
   "outputs": [
    {
     "name": "stdout",
     "output_type": "stream",
     "text": [
      "Shape after Filtering  Hopeless  :  (5305, 348)\n",
      "Shape after Filtering  SeekHealthInfo  :  (5218, 348)\n",
      "                         HHID  HIGHSPANLI  ...  IncomeFeelings  MAILNUM\n",
      "Hopeless SeekHealthInfo                    ...                         \n",
      "1        1                157         157  ...             157      157\n",
      "         2                 57          57  ...              57       57\n",
      "2        1                228         228  ...             228      228\n",
      "         2                 57          57  ...              57       57\n",
      "3        1                845         845  ...             845      845\n",
      "         2                146         146  ...             146      146\n",
      "4        1               2985        2985  ...            2985     2985\n",
      "         2                743         743  ...             743      743\n",
      "\n",
      "[8 rows x 346 columns]\n",
      "Done!!\n"
     ]
    },
    {
     "data": {
      "image/png": "[encoded data removed]",
      "text/plain": [
       "<Figure size 1080x504 with 1 Axes>"
      ]
     },
     "metadata": {
      "tags": []
     },
     "output_type": "display_data"
    }
   ],
   "source": [
    "'''\n",
    "  Hopeless\n",
    "\n",
    "  F11b. Over the past 2 weeks, how often have you been bothered by: Feeling down, depressed or hopeless?\n",
    "\n",
    "    1. Nearly every day         2. More than half the days\n",
    "    3. Several days             4. Not at all\n",
    "\n",
    "  SeekHealthInfo\n",
    "\n",
    "  A1. Have you ever looked for information about health or medical topics from any source?\n",
    "      1.  Yes       2. No\n",
    "'''\n",
    "\n",
    "analyse_data(new_df,'Hopeless','SeekHealthInfo','WhereSeekHealthInfo')"
   ]
  },
  {
   "cell_type": "code",
   "execution_count": 0,
   "metadata": {
    "colab": {
     "base_uri": "https://localhost:8080/",
     "height": 714
    },
    "colab_type": "code",
    "id": "pisV-Qyq2gDJ",
    "outputId": "e5e3b111-5e96-403c-820c-b599e3833ccc"
   },
   "outputs": [
    {
     "name": "stdout",
     "output_type": "stream",
     "text": [
      "Shape after Filtering  Nervous  :  (5309, 348)\n",
      "Shape after Filtering  SeekHealthInfo  :  (5223, 348)\n",
      "                        HHID  HIGHSPANLI  ...  IncomeFeelings  MAILNUM\n",
      "Nervous SeekHealthInfo                    ...                         \n",
      "1       1                175         175  ...             175      175\n",
      "        2                 62          62  ...              62       62\n",
      "2       1                271         271  ...             271      271\n",
      "        2                 59          59  ...              59       59\n",
      "3       1               1147        1147  ...            1147     1147\n",
      "        2                166         166  ...             166      166\n",
      "4       1               2624        2624  ...            2624     2624\n",
      "        2                719         719  ...             719      719\n",
      "\n",
      "[8 rows x 346 columns]\n",
      "Done!!\n"
     ]
    },
    {
     "data": {
      "image/png": "[encoded data removed]",
      "text/plain": [
       "<Figure size 1080x504 with 1 Axes>"
      ]
     },
     "metadata": {
      "tags": []
     },
     "output_type": "display_data"
    }
   ],
   "source": [
    "'''\n",
    "  Nervous\n",
    "\n",
    "  F11c. Over the past 2 weeks, how often have you been bothered by: Feeling nervous, anxious or on edge?\n",
    "\n",
    "    1. Nearly every day         2. More than half the days\n",
    "    3. Several days             4. Not at all\n",
    "\n",
    "  SeekHealthInfo\n",
    "\n",
    "  A1. Have you ever looked for information about health or medical topics from any source?\n",
    "      1.  Yes       2. No\n",
    "'''\n",
    "\n",
    "analyse_data(new_df,'Nervous','SeekHealthInfo','WhereSeekHealthInfo')"
   ]
  },
  {
   "cell_type": "code",
   "execution_count": 0,
   "metadata": {
    "colab": {
     "base_uri": "https://localhost:8080/",
     "height": 714
    },
    "colab_type": "code",
    "id": "xw3IN8Ij3Odj",
    "outputId": "6f3acecf-63f6-4f28-b1ca-23c178c707ca"
   },
   "outputs": [
    {
     "name": "stdout",
     "output_type": "stream",
     "text": [
      "Shape after Filtering  Worrying  :  (5300, 348)\n",
      "Shape after Filtering  SeekHealthInfo  :  (5213, 348)\n",
      "                         HHID  HIGHSPANLI  ...  IncomeFeelings  MAILNUM\n",
      "Worrying SeekHealthInfo                    ...                         \n",
      "1        1                185         185  ...             185      185\n",
      "         2                 62          62  ...              62       62\n",
      "2        1                226         226  ...             226      226\n",
      "         2                 59          59  ...              59       59\n",
      "3        1                834         834  ...             834      834\n",
      "         2                157         157  ...             157      157\n",
      "4        1               2964        2964  ...            2964     2964\n",
      "         2                726         726  ...             726      726\n",
      "\n",
      "[8 rows x 346 columns]\n",
      "Done!!\n"
     ]
    },
    {
     "data": {
      "image/png": "[encoded data removed]",
      "text/plain": [
       "<Figure size 1080x504 with 1 Axes>"
      ]
     },
     "metadata": {
      "tags": []
     },
     "output_type": "display_data"
    }
   ],
   "source": [
    "'''\n",
    "  Worrying\n",
    "\n",
    "  F11d. Over the past 2 weeks, how often have you been bothered by: Not being able to stop or control worrying?\n",
    "\n",
    "    1. Nearly every day         2. More than half the days\n",
    "    3. Several days             4. Not at all\n",
    "\n",
    "  SeekHealthInfo\n",
    "\n",
    "  A1. Have you ever looked for information about health or medical topics from any source?\n",
    "      1.  Yes       2. No\n",
    "'''\n",
    "\n",
    "analyse_data(new_df,'Worrying','SeekHealthInfo','WhereSeekHealthInfo')"
   ]
  },
  {
   "cell_type": "markdown",
   "metadata": {
    "colab_type": "text",
    "id": "SnA4-L4BwoJp"
   },
   "source": [
    "# Earlier Work"
   ]
  },
  {
   "cell_type": "code",
   "execution_count": 0,
   "metadata": {
    "colab": {
     "base_uri": "https://localhost:8080/",
     "height": 102
    },
    "colab_type": "code",
    "id": "QPZ13B-Wgrt6",
    "outputId": "faa4c630-c104-458d-cba8-f185f579ba79"
   },
   "outputs": [
    {
     "name": "stdout",
     "output_type": "stream",
     "text": [
      "<class 'pandas.core.frame.DataFrame'>\n",
      "RangeIndex: 5438 entries, 0 to 5437\n",
      "Columns: 730 entries, HHID to IncomeRanges_IMP\n",
      "dtypes: datetime64[ns](1), float64(358), int64(362), object(9)\n",
      "memory usage: 30.3+ MB\n"
     ]
    }
   ],
   "source": [
    "df.info()"
   ]
  },
  {
   "cell_type": "markdown",
   "metadata": {
    "colab_type": "text",
    "id": "zpjsH4tJF0du"
   },
   "source": [
    "Removing all `TG_all_` columns"
   ]
  },
  {
   "cell_type": "code",
   "execution_count": 0,
   "metadata": {
    "colab": {
     "base_uri": "https://localhost:8080/",
     "height": 34
    },
    "colab_type": "code",
    "id": "7_5serOHE-lr",
    "outputId": "32c1a8ac-5564-46fc-b00d-f87979546572"
   },
   "outputs": [
    {
     "data": {
      "text/plain": [
       "(5438, 359)"
      ]
     },
     "execution_count": 11,
     "metadata": {
      "tags": []
     },
     "output_type": "execute_result"
    }
   ],
   "source": [
    "remove_df = df.iloc[:,359:]\n",
    "df = df.drop(remove_df.columns, axis=1)\n",
    "df.shape"
   ]
  },
  {
   "cell_type": "markdown",
   "metadata": {
    "colab_type": "text",
    "id": "HGZALz5xhzns"
   },
   "source": [
    "**Preprocessing upto here**: Removed columns of type object and datetime."
   ]
  },
  {
   "cell_type": "code",
   "execution_count": 0,
   "metadata": {
    "colab": {
     "base_uri": "https://localhost:8080/",
     "height": 170
    },
    "colab_type": "code",
    "id": "5RbYLTHhg2sa",
    "outputId": "ac712a42-2fb7-414d-9101-3b6cc487d312"
   },
   "outputs": [
    {
     "data": {
      "text/plain": [
       "['PersonID',\n",
       " 'Stratum',\n",
       " 'APP_REGION',\n",
       " 'VAR_STRATUM',\n",
       " 'StrongNeedHealthInfo_OS',\n",
       " 'HealthIns_Other_OS',\n",
       " 'Caregiving_Other_OS',\n",
       " 'CaOther_OS',\n",
       " 'SexualOrientation_OS']"
      ]
     },
     "execution_count": 12,
     "metadata": {
      "tags": []
     },
     "output_type": "execute_result"
    }
   ],
   "source": [
    "object_cols = list(df.select_dtypes(include=['object']).columns)\n",
    "object_cols"
   ]
  },
  {
   "cell_type": "code",
   "execution_count": 0,
   "metadata": {
    "colab": {
     "base_uri": "https://localhost:8080/",
     "height": 34
    },
    "colab_type": "code",
    "id": "PDyQCxJzg6ay",
    "outputId": "7af95f51-30f0-4918-b39c-ff53d48edcdb"
   },
   "outputs": [
    {
     "data": {
      "text/plain": [
       "['UpdateDate']"
      ]
     },
     "execution_count": 13,
     "metadata": {
      "tags": []
     },
     "output_type": "execute_result"
    }
   ],
   "source": [
    "date_cols = list(df.select_dtypes(include=['datetime']).columns)\n",
    "date_cols"
   ]
  },
  {
   "cell_type": "code",
   "execution_count": 0,
   "metadata": {
    "colab": {
     "base_uri": "https://localhost:8080/",
     "height": 34
    },
    "colab_type": "code",
    "id": "lVgCjibfhIjf",
    "outputId": "b30f63d2-28e2-4c98-a0ac-486ea9cf5e1b"
   },
   "outputs": [
    {
     "data": {
      "text/plain": [
       "349"
      ]
     },
     "execution_count": 14,
     "metadata": {
      "tags": []
     },
     "output_type": "execute_result"
    }
   ],
   "source": [
    "new_df = df.drop(object_cols, axis=1)\n",
    "new_df = new_df.drop(date_cols, axis=1)\n",
    "len(new_df.columns)\n"
   ]
  },
  {
   "cell_type": "markdown",
   "metadata": {
    "colab_type": "text",
    "id": "ba9_2G5glxuV"
   },
   "source": [
    "Prompt column seems to have NaN values"
   ]
  },
  {
   "cell_type": "code",
   "execution_count": 0,
   "metadata": {
    "colab": {
     "base_uri": "https://localhost:8080/",
     "height": 34
    },
    "colab_type": "code",
    "id": "Zi3U8eb4-ZJ2",
    "outputId": "44a47920-fe74-47ac-82e7-c3a583648f5f"
   },
   "outputs": [
    {
     "data": {
      "text/plain": [
       "['Prompt']"
      ]
     },
     "execution_count": 15,
     "metadata": {
      "tags": []
     },
     "output_type": "execute_result"
    }
   ],
   "source": [
    "new_df.columns[new_df.isna().any()].tolist()"
   ]
  },
  {
   "cell_type": "code",
   "execution_count": 0,
   "metadata": {
    "colab": {
     "base_uri": "https://localhost:8080/",
     "height": 34
    },
    "colab_type": "code",
    "id": "H8GfCrb0Ab0s",
    "outputId": "96240cac-a2af-4638-fb0a-bc8866adc0bc"
   },
   "outputs": [
    {
     "data": {
      "text/plain": [
       "(348, (5438, 348))"
      ]
     },
     "execution_count": 16,
     "metadata": {
      "tags": []
     },
     "output_type": "execute_result"
    }
   ],
   "source": [
    "new_df = new_df.drop(['Prompt'],axis =1)\n",
    "len(new_df.columns), new_df.shape"
   ]
  },
  {
   "cell_type": "markdown",
   "metadata": {
    "colab_type": "text",
    "id": "bfKAyz2ZhZ0s"
   },
   "source": []
  },
  {
   "cell_type": "code",
   "execution_count": 0,
   "metadata": {
    "colab": {
     "base_uri": "https://localhost:8080/",
     "height": 473
    },
    "colab_type": "code",
    "id": "rXFVmFQzHiTS",
    "outputId": "c886b77b-c925-44c3-a2c4-05a9189ee2fd"
   },
   "outputs": [
    {
     "name": "stdout",
     "output_type": "stream",
     "text": [
      "(5308, 348)\n",
      "(5220, 348)\n"
     ]
    },
    {
     "data": {
      "text/html": [
       "<div>\n",
       "<style scoped>\n",
       "    .dataframe tbody tr th:only-of-type {\n",
       "        vertical-align: middle;\n",
       "    }\n",
       "\n",
       "    .dataframe tbody tr th {\n",
       "        vertical-align: top;\n",
       "    }\n",
       "\n",
       "    .dataframe thead th {\n",
       "        text-align: right;\n",
       "    }\n",
       "</style>\n",
       "<table border=\"1\" class=\"dataframe\">\n",
       "  <thead>\n",
       "    <tr style=\"text-align: right;\">\n",
       "      <th></th>\n",
       "      <th></th>\n",
       "      <th>HHID</th>\n",
       "      <th>HIGHSPANLI</th>\n",
       "      <th>HISPSURNAME</th>\n",
       "      <th>HISP_HH</th>\n",
       "      <th>RUC2003</th>\n",
       "      <th>RUC2013</th>\n",
       "      <th>PR_RUCA_2010</th>\n",
       "      <th>SEC_RUCA_2010</th>\n",
       "      <th>DRA</th>\n",
       "      <th>Treatment_H5C3</th>\n",
       "      <th>NCHSURCODE2013</th>\n",
       "      <th>CENSDIV</th>\n",
       "      <th>CENSREG</th>\n",
       "      <th>VAR_CLUSTER</th>\n",
       "      <th>FormType</th>\n",
       "      <th>Language_Flag</th>\n",
       "      <th>QDisp</th>\n",
       "      <th>AdultsInHH</th>\n",
       "      <th>MailHHAdults</th>\n",
       "      <th>SeekHealthInfo</th>\n",
       "      <th>WhereSeekHealthInfo</th>\n",
       "      <th>WhoLookingFor</th>\n",
       "      <th>LotOfEffort</th>\n",
       "      <th>Frustrated</th>\n",
       "      <th>TrustDoctor</th>\n",
       "      <th>TrustFamily</th>\n",
       "      <th>TrustGov</th>\n",
       "      <th>TrustCharities</th>\n",
       "      <th>TrustReligiousOrgs</th>\n",
       "      <th>StrongNeedHealthInfo</th>\n",
       "      <th>SeekCancerInfo</th>\n",
       "      <th>UseInternet</th>\n",
       "      <th>Internet_DialUp</th>\n",
       "      <th>Internet_BroadBnd</th>\n",
       "      <th>Internet_Cell</th>\n",
       "      <th>Internet_WiFi</th>\n",
       "      <th>InternetCancerInfoSelf</th>\n",
       "      <th>WhereUseInternet_Home</th>\n",
       "      <th>WhereUseInternet_Work</th>\n",
       "      <th>WhereUseInternet_PublicPlace</th>\n",
       "      <th>...</th>\n",
       "      <th>AmerInd</th>\n",
       "      <th>AsInd</th>\n",
       "      <th>Chinese</th>\n",
       "      <th>Filipino</th>\n",
       "      <th>Japanese</th>\n",
       "      <th>Korean</th>\n",
       "      <th>Vietnamese</th>\n",
       "      <th>OthAsian</th>\n",
       "      <th>Hawaiian</th>\n",
       "      <th>Guamanian</th>\n",
       "      <th>Samoan</th>\n",
       "      <th>OthPacIsl</th>\n",
       "      <th>Race_Cat2</th>\n",
       "      <th>SexualOrientation</th>\n",
       "      <th>TotalHousehold</th>\n",
       "      <th>R_HHAdults</th>\n",
       "      <th>HHAdults_Num</th>\n",
       "      <th>SelfGender</th>\n",
       "      <th>SelfAge</th>\n",
       "      <th>SelfMOB</th>\n",
       "      <th>HHAdultGender2</th>\n",
       "      <th>HHAdultAge2</th>\n",
       "      <th>HHAdultMOB2</th>\n",
       "      <th>HHAdultGender3</th>\n",
       "      <th>HHAdultAge3</th>\n",
       "      <th>HHAdultMOB3</th>\n",
       "      <th>HHAdultGender4</th>\n",
       "      <th>HHAdultAge4</th>\n",
       "      <th>HHAdultMOB4</th>\n",
       "      <th>HHAdultGender5</th>\n",
       "      <th>HHAdultAge5</th>\n",
       "      <th>HHAdultMOB5</th>\n",
       "      <th>HHAdultGender6</th>\n",
       "      <th>HHAdultAge6</th>\n",
       "      <th>HHAdultMOB6</th>\n",
       "      <th>ChildrenInHH</th>\n",
       "      <th>RentOrOwn</th>\n",
       "      <th>IncomeRanges</th>\n",
       "      <th>IncomeFeelings</th>\n",
       "      <th>MAILNUM</th>\n",
       "    </tr>\n",
       "    <tr>\n",
       "      <th>ConfidentGetHealthInf</th>\n",
       "      <th>IntRsn_SharedSocNet</th>\n",
       "      <th></th>\n",
       "      <th></th>\n",
       "      <th></th>\n",
       "      <th></th>\n",
       "      <th></th>\n",
       "      <th></th>\n",
       "      <th></th>\n",
       "      <th></th>\n",
       "      <th></th>\n",
       "      <th></th>\n",
       "      <th></th>\n",
       "      <th></th>\n",
       "      <th></th>\n",
       "      <th></th>\n",
       "      <th></th>\n",
       "      <th></th>\n",
       "      <th></th>\n",
       "      <th></th>\n",
       "      <th></th>\n",
       "      <th></th>\n",
       "      <th></th>\n",
       "      <th></th>\n",
       "      <th></th>\n",
       "      <th></th>\n",
       "      <th></th>\n",
       "      <th></th>\n",
       "      <th></th>\n",
       "      <th></th>\n",
       "      <th></th>\n",
       "      <th></th>\n",
       "      <th></th>\n",
       "      <th></th>\n",
       "      <th></th>\n",
       "      <th></th>\n",
       "      <th></th>\n",
       "      <th></th>\n",
       "      <th></th>\n",
       "      <th></th>\n",
       "      <th></th>\n",
       "      <th></th>\n",
       "      <th></th>\n",
       "      <th></th>\n",
       "      <th></th>\n",
       "      <th></th>\n",
       "      <th></th>\n",
       "      <th></th>\n",
       "      <th></th>\n",
       "      <th></th>\n",
       "      <th></th>\n",
       "      <th></th>\n",
       "      <th></th>\n",
       "      <th></th>\n",
       "      <th></th>\n",
       "      <th></th>\n",
       "      <th></th>\n",
       "      <th></th>\n",
       "      <th></th>\n",
       "      <th></th>\n",
       "      <th></th>\n",
       "      <th></th>\n",
       "      <th></th>\n",
       "      <th></th>\n",
       "      <th></th>\n",
       "      <th></th>\n",
       "      <th></th>\n",
       "      <th></th>\n",
       "      <th></th>\n",
       "      <th></th>\n",
       "      <th></th>\n",
       "      <th></th>\n",
       "      <th></th>\n",
       "      <th></th>\n",
       "      <th></th>\n",
       "      <th></th>\n",
       "      <th></th>\n",
       "      <th></th>\n",
       "      <th></th>\n",
       "      <th></th>\n",
       "      <th></th>\n",
       "      <th></th>\n",
       "      <th></th>\n",
       "    </tr>\n",
       "  </thead>\n",
       "  <tbody>\n",
       "    <tr>\n",
       "      <th rowspan=\"2\" valign=\"top\">1</th>\n",
       "      <th>1</th>\n",
       "      <td>190</td>\n",
       "      <td>190</td>\n",
       "      <td>190</td>\n",
       "      <td>190</td>\n",
       "      <td>190</td>\n",
       "      <td>190</td>\n",
       "      <td>190</td>\n",
       "      <td>190</td>\n",
       "      <td>190</td>\n",
       "      <td>190</td>\n",
       "      <td>190</td>\n",
       "      <td>190</td>\n",
       "      <td>190</td>\n",
       "      <td>190</td>\n",
       "      <td>190</td>\n",
       "      <td>190</td>\n",
       "      <td>190</td>\n",
       "      <td>190</td>\n",
       "      <td>190</td>\n",
       "      <td>190</td>\n",
       "      <td>190</td>\n",
       "      <td>190</td>\n",
       "      <td>190</td>\n",
       "      <td>190</td>\n",
       "      <td>190</td>\n",
       "      <td>190</td>\n",
       "      <td>190</td>\n",
       "      <td>190</td>\n",
       "      <td>190</td>\n",
       "      <td>190</td>\n",
       "      <td>190</td>\n",
       "      <td>190</td>\n",
       "      <td>190</td>\n",
       "      <td>190</td>\n",
       "      <td>190</td>\n",
       "      <td>190</td>\n",
       "      <td>190</td>\n",
       "      <td>190</td>\n",
       "      <td>190</td>\n",
       "      <td>190</td>\n",
       "      <td>...</td>\n",
       "      <td>190</td>\n",
       "      <td>190</td>\n",
       "      <td>190</td>\n",
       "      <td>190</td>\n",
       "      <td>190</td>\n",
       "      <td>190</td>\n",
       "      <td>190</td>\n",
       "      <td>190</td>\n",
       "      <td>190</td>\n",
       "      <td>190</td>\n",
       "      <td>190</td>\n",
       "      <td>190</td>\n",
       "      <td>190</td>\n",
       "      <td>190</td>\n",
       "      <td>190</td>\n",
       "      <td>190</td>\n",
       "      <td>190</td>\n",
       "      <td>190</td>\n",
       "      <td>190</td>\n",
       "      <td>190</td>\n",
       "      <td>190</td>\n",
       "      <td>190</td>\n",
       "      <td>190</td>\n",
       "      <td>190</td>\n",
       "      <td>190</td>\n",
       "      <td>190</td>\n",
       "      <td>190</td>\n",
       "      <td>190</td>\n",
       "      <td>190</td>\n",
       "      <td>190</td>\n",
       "      <td>190</td>\n",
       "      <td>190</td>\n",
       "      <td>190</td>\n",
       "      <td>190</td>\n",
       "      <td>190</td>\n",
       "      <td>190</td>\n",
       "      <td>190</td>\n",
       "      <td>190</td>\n",
       "      <td>190</td>\n",
       "      <td>190</td>\n",
       "    </tr>\n",
       "    <tr>\n",
       "      <th>2</th>\n",
       "      <td>1175</td>\n",
       "      <td>1175</td>\n",
       "      <td>1175</td>\n",
       "      <td>1175</td>\n",
       "      <td>1175</td>\n",
       "      <td>1175</td>\n",
       "      <td>1175</td>\n",
       "      <td>1175</td>\n",
       "      <td>1175</td>\n",
       "      <td>1175</td>\n",
       "      <td>1175</td>\n",
       "      <td>1175</td>\n",
       "      <td>1175</td>\n",
       "      <td>1175</td>\n",
       "      <td>1175</td>\n",
       "      <td>1175</td>\n",
       "      <td>1175</td>\n",
       "      <td>1175</td>\n",
       "      <td>1175</td>\n",
       "      <td>1175</td>\n",
       "      <td>1175</td>\n",
       "      <td>1175</td>\n",
       "      <td>1175</td>\n",
       "      <td>1175</td>\n",
       "      <td>1175</td>\n",
       "      <td>1175</td>\n",
       "      <td>1175</td>\n",
       "      <td>1175</td>\n",
       "      <td>1175</td>\n",
       "      <td>1175</td>\n",
       "      <td>1175</td>\n",
       "      <td>1175</td>\n",
       "      <td>1175</td>\n",
       "      <td>1175</td>\n",
       "      <td>1175</td>\n",
       "      <td>1175</td>\n",
       "      <td>1175</td>\n",
       "      <td>1175</td>\n",
       "      <td>1175</td>\n",
       "      <td>1175</td>\n",
       "      <td>...</td>\n",
       "      <td>1175</td>\n",
       "      <td>1175</td>\n",
       "      <td>1175</td>\n",
       "      <td>1175</td>\n",
       "      <td>1175</td>\n",
       "      <td>1175</td>\n",
       "      <td>1175</td>\n",
       "      <td>1175</td>\n",
       "      <td>1175</td>\n",
       "      <td>1175</td>\n",
       "      <td>1175</td>\n",
       "      <td>1175</td>\n",
       "      <td>1175</td>\n",
       "      <td>1175</td>\n",
       "      <td>1175</td>\n",
       "      <td>1175</td>\n",
       "      <td>1175</td>\n",
       "      <td>1175</td>\n",
       "      <td>1175</td>\n",
       "      <td>1175</td>\n",
       "      <td>1175</td>\n",
       "      <td>1175</td>\n",
       "      <td>1175</td>\n",
       "      <td>1175</td>\n",
       "      <td>1175</td>\n",
       "      <td>1175</td>\n",
       "      <td>1175</td>\n",
       "      <td>1175</td>\n",
       "      <td>1175</td>\n",
       "      <td>1175</td>\n",
       "      <td>1175</td>\n",
       "      <td>1175</td>\n",
       "      <td>1175</td>\n",
       "      <td>1175</td>\n",
       "      <td>1175</td>\n",
       "      <td>1175</td>\n",
       "      <td>1175</td>\n",
       "      <td>1175</td>\n",
       "      <td>1175</td>\n",
       "      <td>1175</td>\n",
       "    </tr>\n",
       "    <tr>\n",
       "      <th rowspan=\"2\" valign=\"top\">2</th>\n",
       "      <th>1</th>\n",
       "      <td>229</td>\n",
       "      <td>229</td>\n",
       "      <td>229</td>\n",
       "      <td>229</td>\n",
       "      <td>229</td>\n",
       "      <td>229</td>\n",
       "      <td>229</td>\n",
       "      <td>229</td>\n",
       "      <td>229</td>\n",
       "      <td>229</td>\n",
       "      <td>229</td>\n",
       "      <td>229</td>\n",
       "      <td>229</td>\n",
       "      <td>229</td>\n",
       "      <td>229</td>\n",
       "      <td>229</td>\n",
       "      <td>229</td>\n",
       "      <td>229</td>\n",
       "      <td>229</td>\n",
       "      <td>229</td>\n",
       "      <td>229</td>\n",
       "      <td>229</td>\n",
       "      <td>229</td>\n",
       "      <td>229</td>\n",
       "      <td>229</td>\n",
       "      <td>229</td>\n",
       "      <td>229</td>\n",
       "      <td>229</td>\n",
       "      <td>229</td>\n",
       "      <td>229</td>\n",
       "      <td>229</td>\n",
       "      <td>229</td>\n",
       "      <td>229</td>\n",
       "      <td>229</td>\n",
       "      <td>229</td>\n",
       "      <td>229</td>\n",
       "      <td>229</td>\n",
       "      <td>229</td>\n",
       "      <td>229</td>\n",
       "      <td>229</td>\n",
       "      <td>...</td>\n",
       "      <td>229</td>\n",
       "      <td>229</td>\n",
       "      <td>229</td>\n",
       "      <td>229</td>\n",
       "      <td>229</td>\n",
       "      <td>229</td>\n",
       "      <td>229</td>\n",
       "      <td>229</td>\n",
       "      <td>229</td>\n",
       "      <td>229</td>\n",
       "      <td>229</td>\n",
       "      <td>229</td>\n",
       "      <td>229</td>\n",
       "      <td>229</td>\n",
       "      <td>229</td>\n",
       "      <td>229</td>\n",
       "      <td>229</td>\n",
       "      <td>229</td>\n",
       "      <td>229</td>\n",
       "      <td>229</td>\n",
       "      <td>229</td>\n",
       "      <td>229</td>\n",
       "      <td>229</td>\n",
       "      <td>229</td>\n",
       "      <td>229</td>\n",
       "      <td>229</td>\n",
       "      <td>229</td>\n",
       "      <td>229</td>\n",
       "      <td>229</td>\n",
       "      <td>229</td>\n",
       "      <td>229</td>\n",
       "      <td>229</td>\n",
       "      <td>229</td>\n",
       "      <td>229</td>\n",
       "      <td>229</td>\n",
       "      <td>229</td>\n",
       "      <td>229</td>\n",
       "      <td>229</td>\n",
       "      <td>229</td>\n",
       "      <td>229</td>\n",
       "    </tr>\n",
       "    <tr>\n",
       "      <th>2</th>\n",
       "      <td>1737</td>\n",
       "      <td>1737</td>\n",
       "      <td>1737</td>\n",
       "      <td>1737</td>\n",
       "      <td>1737</td>\n",
       "      <td>1737</td>\n",
       "      <td>1737</td>\n",
       "      <td>1737</td>\n",
       "      <td>1737</td>\n",
       "      <td>1737</td>\n",
       "      <td>1737</td>\n",
       "      <td>1737</td>\n",
       "      <td>1737</td>\n",
       "      <td>1737</td>\n",
       "      <td>1737</td>\n",
       "      <td>1737</td>\n",
       "      <td>1737</td>\n",
       "      <td>1737</td>\n",
       "      <td>1737</td>\n",
       "      <td>1737</td>\n",
       "      <td>1737</td>\n",
       "      <td>1737</td>\n",
       "      <td>1737</td>\n",
       "      <td>1737</td>\n",
       "      <td>1737</td>\n",
       "      <td>1737</td>\n",
       "      <td>1737</td>\n",
       "      <td>1737</td>\n",
       "      <td>1737</td>\n",
       "      <td>1737</td>\n",
       "      <td>1737</td>\n",
       "      <td>1737</td>\n",
       "      <td>1737</td>\n",
       "      <td>1737</td>\n",
       "      <td>1737</td>\n",
       "      <td>1737</td>\n",
       "      <td>1737</td>\n",
       "      <td>1737</td>\n",
       "      <td>1737</td>\n",
       "      <td>1737</td>\n",
       "      <td>...</td>\n",
       "      <td>1737</td>\n",
       "      <td>1737</td>\n",
       "      <td>1737</td>\n",
       "      <td>1737</td>\n",
       "      <td>1737</td>\n",
       "      <td>1737</td>\n",
       "      <td>1737</td>\n",
       "      <td>1737</td>\n",
       "      <td>1737</td>\n",
       "      <td>1737</td>\n",
       "      <td>1737</td>\n",
       "      <td>1737</td>\n",
       "      <td>1737</td>\n",
       "      <td>1737</td>\n",
       "      <td>1737</td>\n",
       "      <td>1737</td>\n",
       "      <td>1737</td>\n",
       "      <td>1737</td>\n",
       "      <td>1737</td>\n",
       "      <td>1737</td>\n",
       "      <td>1737</td>\n",
       "      <td>1737</td>\n",
       "      <td>1737</td>\n",
       "      <td>1737</td>\n",
       "      <td>1737</td>\n",
       "      <td>1737</td>\n",
       "      <td>1737</td>\n",
       "      <td>1737</td>\n",
       "      <td>1737</td>\n",
       "      <td>1737</td>\n",
       "      <td>1737</td>\n",
       "      <td>1737</td>\n",
       "      <td>1737</td>\n",
       "      <td>1737</td>\n",
       "      <td>1737</td>\n",
       "      <td>1737</td>\n",
       "      <td>1737</td>\n",
       "      <td>1737</td>\n",
       "      <td>1737</td>\n",
       "      <td>1737</td>\n",
       "    </tr>\n",
       "    <tr>\n",
       "      <th rowspan=\"2\" valign=\"top\">3</th>\n",
       "      <th>1</th>\n",
       "      <td>182</td>\n",
       "      <td>182</td>\n",
       "      <td>182</td>\n",
       "      <td>182</td>\n",
       "      <td>182</td>\n",
       "      <td>182</td>\n",
       "      <td>182</td>\n",
       "      <td>182</td>\n",
       "      <td>182</td>\n",
       "      <td>182</td>\n",
       "      <td>182</td>\n",
       "      <td>182</td>\n",
       "      <td>182</td>\n",
       "      <td>182</td>\n",
       "      <td>182</td>\n",
       "      <td>182</td>\n",
       "      <td>182</td>\n",
       "      <td>182</td>\n",
       "      <td>182</td>\n",
       "      <td>182</td>\n",
       "      <td>182</td>\n",
       "      <td>182</td>\n",
       "      <td>182</td>\n",
       "      <td>182</td>\n",
       "      <td>182</td>\n",
       "      <td>182</td>\n",
       "      <td>182</td>\n",
       "      <td>182</td>\n",
       "      <td>182</td>\n",
       "      <td>182</td>\n",
       "      <td>182</td>\n",
       "      <td>182</td>\n",
       "      <td>182</td>\n",
       "      <td>182</td>\n",
       "      <td>182</td>\n",
       "      <td>182</td>\n",
       "      <td>182</td>\n",
       "      <td>182</td>\n",
       "      <td>182</td>\n",
       "      <td>182</td>\n",
       "      <td>...</td>\n",
       "      <td>182</td>\n",
       "      <td>182</td>\n",
       "      <td>182</td>\n",
       "      <td>182</td>\n",
       "      <td>182</td>\n",
       "      <td>182</td>\n",
       "      <td>182</td>\n",
       "      <td>182</td>\n",
       "      <td>182</td>\n",
       "      <td>182</td>\n",
       "      <td>182</td>\n",
       "      <td>182</td>\n",
       "      <td>182</td>\n",
       "      <td>182</td>\n",
       "      <td>182</td>\n",
       "      <td>182</td>\n",
       "      <td>182</td>\n",
       "      <td>182</td>\n",
       "      <td>182</td>\n",
       "      <td>182</td>\n",
       "      <td>182</td>\n",
       "      <td>182</td>\n",
       "      <td>182</td>\n",
       "      <td>182</td>\n",
       "      <td>182</td>\n",
       "      <td>182</td>\n",
       "      <td>182</td>\n",
       "      <td>182</td>\n",
       "      <td>182</td>\n",
       "      <td>182</td>\n",
       "      <td>182</td>\n",
       "      <td>182</td>\n",
       "      <td>182</td>\n",
       "      <td>182</td>\n",
       "      <td>182</td>\n",
       "      <td>182</td>\n",
       "      <td>182</td>\n",
       "      <td>182</td>\n",
       "      <td>182</td>\n",
       "      <td>182</td>\n",
       "    </tr>\n",
       "    <tr>\n",
       "      <th>2</th>\n",
       "      <td>1330</td>\n",
       "      <td>1330</td>\n",
       "      <td>1330</td>\n",
       "      <td>1330</td>\n",
       "      <td>1330</td>\n",
       "      <td>1330</td>\n",
       "      <td>1330</td>\n",
       "      <td>1330</td>\n",
       "      <td>1330</td>\n",
       "      <td>1330</td>\n",
       "      <td>1330</td>\n",
       "      <td>1330</td>\n",
       "      <td>1330</td>\n",
       "      <td>1330</td>\n",
       "      <td>1330</td>\n",
       "      <td>1330</td>\n",
       "      <td>1330</td>\n",
       "      <td>1330</td>\n",
       "      <td>1330</td>\n",
       "      <td>1330</td>\n",
       "      <td>1330</td>\n",
       "      <td>1330</td>\n",
       "      <td>1330</td>\n",
       "      <td>1330</td>\n",
       "      <td>1330</td>\n",
       "      <td>1330</td>\n",
       "      <td>1330</td>\n",
       "      <td>1330</td>\n",
       "      <td>1330</td>\n",
       "      <td>1330</td>\n",
       "      <td>1330</td>\n",
       "      <td>1330</td>\n",
       "      <td>1330</td>\n",
       "      <td>1330</td>\n",
       "      <td>1330</td>\n",
       "      <td>1330</td>\n",
       "      <td>1330</td>\n",
       "      <td>1330</td>\n",
       "      <td>1330</td>\n",
       "      <td>1330</td>\n",
       "      <td>...</td>\n",
       "      <td>1330</td>\n",
       "      <td>1330</td>\n",
       "      <td>1330</td>\n",
       "      <td>1330</td>\n",
       "      <td>1330</td>\n",
       "      <td>1330</td>\n",
       "      <td>1330</td>\n",
       "      <td>1330</td>\n",
       "      <td>1330</td>\n",
       "      <td>1330</td>\n",
       "      <td>1330</td>\n",
       "      <td>1330</td>\n",
       "      <td>1330</td>\n",
       "      <td>1330</td>\n",
       "      <td>1330</td>\n",
       "      <td>1330</td>\n",
       "      <td>1330</td>\n",
       "      <td>1330</td>\n",
       "      <td>1330</td>\n",
       "      <td>1330</td>\n",
       "      <td>1330</td>\n",
       "      <td>1330</td>\n",
       "      <td>1330</td>\n",
       "      <td>1330</td>\n",
       "      <td>1330</td>\n",
       "      <td>1330</td>\n",
       "      <td>1330</td>\n",
       "      <td>1330</td>\n",
       "      <td>1330</td>\n",
       "      <td>1330</td>\n",
       "      <td>1330</td>\n",
       "      <td>1330</td>\n",
       "      <td>1330</td>\n",
       "      <td>1330</td>\n",
       "      <td>1330</td>\n",
       "      <td>1330</td>\n",
       "      <td>1330</td>\n",
       "      <td>1330</td>\n",
       "      <td>1330</td>\n",
       "      <td>1330</td>\n",
       "    </tr>\n",
       "    <tr>\n",
       "      <th rowspan=\"2\" valign=\"top\">4</th>\n",
       "      <th>1</th>\n",
       "      <td>17</td>\n",
       "      <td>17</td>\n",
       "      <td>17</td>\n",
       "      <td>17</td>\n",
       "      <td>17</td>\n",
       "      <td>17</td>\n",
       "      <td>17</td>\n",
       "      <td>17</td>\n",
       "      <td>17</td>\n",
       "      <td>17</td>\n",
       "      <td>17</td>\n",
       "      <td>17</td>\n",
       "      <td>17</td>\n",
       "      <td>17</td>\n",
       "      <td>17</td>\n",
       "      <td>17</td>\n",
       "      <td>17</td>\n",
       "      <td>17</td>\n",
       "      <td>17</td>\n",
       "      <td>17</td>\n",
       "      <td>17</td>\n",
       "      <td>17</td>\n",
       "      <td>17</td>\n",
       "      <td>17</td>\n",
       "      <td>17</td>\n",
       "      <td>17</td>\n",
       "      <td>17</td>\n",
       "      <td>17</td>\n",
       "      <td>17</td>\n",
       "      <td>17</td>\n",
       "      <td>17</td>\n",
       "      <td>17</td>\n",
       "      <td>17</td>\n",
       "      <td>17</td>\n",
       "      <td>17</td>\n",
       "      <td>17</td>\n",
       "      <td>17</td>\n",
       "      <td>17</td>\n",
       "      <td>17</td>\n",
       "      <td>17</td>\n",
       "      <td>...</td>\n",
       "      <td>17</td>\n",
       "      <td>17</td>\n",
       "      <td>17</td>\n",
       "      <td>17</td>\n",
       "      <td>17</td>\n",
       "      <td>17</td>\n",
       "      <td>17</td>\n",
       "      <td>17</td>\n",
       "      <td>17</td>\n",
       "      <td>17</td>\n",
       "      <td>17</td>\n",
       "      <td>17</td>\n",
       "      <td>17</td>\n",
       "      <td>17</td>\n",
       "      <td>17</td>\n",
       "      <td>17</td>\n",
       "      <td>17</td>\n",
       "      <td>17</td>\n",
       "      <td>17</td>\n",
       "      <td>17</td>\n",
       "      <td>17</td>\n",
       "      <td>17</td>\n",
       "      <td>17</td>\n",
       "      <td>17</td>\n",
       "      <td>17</td>\n",
       "      <td>17</td>\n",
       "      <td>17</td>\n",
       "      <td>17</td>\n",
       "      <td>17</td>\n",
       "      <td>17</td>\n",
       "      <td>17</td>\n",
       "      <td>17</td>\n",
       "      <td>17</td>\n",
       "      <td>17</td>\n",
       "      <td>17</td>\n",
       "      <td>17</td>\n",
       "      <td>17</td>\n",
       "      <td>17</td>\n",
       "      <td>17</td>\n",
       "      <td>17</td>\n",
       "    </tr>\n",
       "    <tr>\n",
       "      <th>2</th>\n",
       "      <td>238</td>\n",
       "      <td>238</td>\n",
       "      <td>238</td>\n",
       "      <td>238</td>\n",
       "      <td>238</td>\n",
       "      <td>238</td>\n",
       "      <td>238</td>\n",
       "      <td>238</td>\n",
       "      <td>238</td>\n",
       "      <td>238</td>\n",
       "      <td>238</td>\n",
       "      <td>238</td>\n",
       "      <td>238</td>\n",
       "      <td>238</td>\n",
       "      <td>238</td>\n",
       "      <td>238</td>\n",
       "      <td>238</td>\n",
       "      <td>238</td>\n",
       "      <td>238</td>\n",
       "      <td>238</td>\n",
       "      <td>238</td>\n",
       "      <td>238</td>\n",
       "      <td>238</td>\n",
       "      <td>238</td>\n",
       "      <td>238</td>\n",
       "      <td>238</td>\n",
       "      <td>238</td>\n",
       "      <td>238</td>\n",
       "      <td>238</td>\n",
       "      <td>238</td>\n",
       "      <td>238</td>\n",
       "      <td>238</td>\n",
       "      <td>238</td>\n",
       "      <td>238</td>\n",
       "      <td>238</td>\n",
       "      <td>238</td>\n",
       "      <td>238</td>\n",
       "      <td>238</td>\n",
       "      <td>238</td>\n",
       "      <td>238</td>\n",
       "      <td>...</td>\n",
       "      <td>238</td>\n",
       "      <td>238</td>\n",
       "      <td>238</td>\n",
       "      <td>238</td>\n",
       "      <td>238</td>\n",
       "      <td>238</td>\n",
       "      <td>238</td>\n",
       "      <td>238</td>\n",
       "      <td>238</td>\n",
       "      <td>238</td>\n",
       "      <td>238</td>\n",
       "      <td>238</td>\n",
       "      <td>238</td>\n",
       "      <td>238</td>\n",
       "      <td>238</td>\n",
       "      <td>238</td>\n",
       "      <td>238</td>\n",
       "      <td>238</td>\n",
       "      <td>238</td>\n",
       "      <td>238</td>\n",
       "      <td>238</td>\n",
       "      <td>238</td>\n",
       "      <td>238</td>\n",
       "      <td>238</td>\n",
       "      <td>238</td>\n",
       "      <td>238</td>\n",
       "      <td>238</td>\n",
       "      <td>238</td>\n",
       "      <td>238</td>\n",
       "      <td>238</td>\n",
       "      <td>238</td>\n",
       "      <td>238</td>\n",
       "      <td>238</td>\n",
       "      <td>238</td>\n",
       "      <td>238</td>\n",
       "      <td>238</td>\n",
       "      <td>238</td>\n",
       "      <td>238</td>\n",
       "      <td>238</td>\n",
       "      <td>238</td>\n",
       "    </tr>\n",
       "    <tr>\n",
       "      <th rowspan=\"2\" valign=\"top\">5</th>\n",
       "      <th>1</th>\n",
       "      <td>8</td>\n",
       "      <td>8</td>\n",
       "      <td>8</td>\n",
       "      <td>8</td>\n",
       "      <td>8</td>\n",
       "      <td>8</td>\n",
       "      <td>8</td>\n",
       "      <td>8</td>\n",
       "      <td>8</td>\n",
       "      <td>8</td>\n",
       "      <td>8</td>\n",
       "      <td>8</td>\n",
       "      <td>8</td>\n",
       "      <td>8</td>\n",
       "      <td>8</td>\n",
       "      <td>8</td>\n",
       "      <td>8</td>\n",
       "      <td>8</td>\n",
       "      <td>8</td>\n",
       "      <td>8</td>\n",
       "      <td>8</td>\n",
       "      <td>8</td>\n",
       "      <td>8</td>\n",
       "      <td>8</td>\n",
       "      <td>8</td>\n",
       "      <td>8</td>\n",
       "      <td>8</td>\n",
       "      <td>8</td>\n",
       "      <td>8</td>\n",
       "      <td>8</td>\n",
       "      <td>8</td>\n",
       "      <td>8</td>\n",
       "      <td>8</td>\n",
       "      <td>8</td>\n",
       "      <td>8</td>\n",
       "      <td>8</td>\n",
       "      <td>8</td>\n",
       "      <td>8</td>\n",
       "      <td>8</td>\n",
       "      <td>8</td>\n",
       "      <td>...</td>\n",
       "      <td>8</td>\n",
       "      <td>8</td>\n",
       "      <td>8</td>\n",
       "      <td>8</td>\n",
       "      <td>8</td>\n",
       "      <td>8</td>\n",
       "      <td>8</td>\n",
       "      <td>8</td>\n",
       "      <td>8</td>\n",
       "      <td>8</td>\n",
       "      <td>8</td>\n",
       "      <td>8</td>\n",
       "      <td>8</td>\n",
       "      <td>8</td>\n",
       "      <td>8</td>\n",
       "      <td>8</td>\n",
       "      <td>8</td>\n",
       "      <td>8</td>\n",
       "      <td>8</td>\n",
       "      <td>8</td>\n",
       "      <td>8</td>\n",
       "      <td>8</td>\n",
       "      <td>8</td>\n",
       "      <td>8</td>\n",
       "      <td>8</td>\n",
       "      <td>8</td>\n",
       "      <td>8</td>\n",
       "      <td>8</td>\n",
       "      <td>8</td>\n",
       "      <td>8</td>\n",
       "      <td>8</td>\n",
       "      <td>8</td>\n",
       "      <td>8</td>\n",
       "      <td>8</td>\n",
       "      <td>8</td>\n",
       "      <td>8</td>\n",
       "      <td>8</td>\n",
       "      <td>8</td>\n",
       "      <td>8</td>\n",
       "      <td>8</td>\n",
       "    </tr>\n",
       "    <tr>\n",
       "      <th>2</th>\n",
       "      <td>114</td>\n",
       "      <td>114</td>\n",
       "      <td>114</td>\n",
       "      <td>114</td>\n",
       "      <td>114</td>\n",
       "      <td>114</td>\n",
       "      <td>114</td>\n",
       "      <td>114</td>\n",
       "      <td>114</td>\n",
       "      <td>114</td>\n",
       "      <td>114</td>\n",
       "      <td>114</td>\n",
       "      <td>114</td>\n",
       "      <td>114</td>\n",
       "      <td>114</td>\n",
       "      <td>114</td>\n",
       "      <td>114</td>\n",
       "      <td>114</td>\n",
       "      <td>114</td>\n",
       "      <td>114</td>\n",
       "      <td>114</td>\n",
       "      <td>114</td>\n",
       "      <td>114</td>\n",
       "      <td>114</td>\n",
       "      <td>114</td>\n",
       "      <td>114</td>\n",
       "      <td>114</td>\n",
       "      <td>114</td>\n",
       "      <td>114</td>\n",
       "      <td>114</td>\n",
       "      <td>114</td>\n",
       "      <td>114</td>\n",
       "      <td>114</td>\n",
       "      <td>114</td>\n",
       "      <td>114</td>\n",
       "      <td>114</td>\n",
       "      <td>114</td>\n",
       "      <td>114</td>\n",
       "      <td>114</td>\n",
       "      <td>114</td>\n",
       "      <td>...</td>\n",
       "      <td>114</td>\n",
       "      <td>114</td>\n",
       "      <td>114</td>\n",
       "      <td>114</td>\n",
       "      <td>114</td>\n",
       "      <td>114</td>\n",
       "      <td>114</td>\n",
       "      <td>114</td>\n",
       "      <td>114</td>\n",
       "      <td>114</td>\n",
       "      <td>114</td>\n",
       "      <td>114</td>\n",
       "      <td>114</td>\n",
       "      <td>114</td>\n",
       "      <td>114</td>\n",
       "      <td>114</td>\n",
       "      <td>114</td>\n",
       "      <td>114</td>\n",
       "      <td>114</td>\n",
       "      <td>114</td>\n",
       "      <td>114</td>\n",
       "      <td>114</td>\n",
       "      <td>114</td>\n",
       "      <td>114</td>\n",
       "      <td>114</td>\n",
       "      <td>114</td>\n",
       "      <td>114</td>\n",
       "      <td>114</td>\n",
       "      <td>114</td>\n",
       "      <td>114</td>\n",
       "      <td>114</td>\n",
       "      <td>114</td>\n",
       "      <td>114</td>\n",
       "      <td>114</td>\n",
       "      <td>114</td>\n",
       "      <td>114</td>\n",
       "      <td>114</td>\n",
       "      <td>114</td>\n",
       "      <td>114</td>\n",
       "      <td>114</td>\n",
       "    </tr>\n",
       "  </tbody>\n",
       "</table>\n",
       "<p>10 rows × 346 columns</p>\n",
       "</div>"
      ],
      "text/plain": [
       "                                           HHID  ...  MAILNUM\n",
       "ConfidentGetHealthInf IntRsn_SharedSocNet        ...         \n",
       "1                     1                     190  ...      190\n",
       "                      2                    1175  ...     1175\n",
       "2                     1                     229  ...      229\n",
       "                      2                    1737  ...     1737\n",
       "3                     1                     182  ...      182\n",
       "                      2                    1330  ...     1330\n",
       "4                     1                      17  ...       17\n",
       "                      2                     238  ...      238\n",
       "5                     1                       8  ...        8\n",
       "                      2                     114  ...      114\n",
       "\n",
       "[10 rows x 346 columns]"
      ]
     },
     "execution_count": 17,
     "metadata": {
      "tags": []
     },
     "output_type": "execute_result"
    }
   ],
   "source": [
    "'''\n",
    "ConfidentGetHealthInf\n",
    "  1.Completely confident     2.Very confident\n",
    "  3.Somewhat confident       4.A little confident\n",
    "  5.Not confident at all\n",
    "'''\n",
    "genh_df = new_df[new_df['ConfidentGetHealthInf']>0]\n",
    "print(genh_df.shape) #(5337, 348)\n",
    "\n",
    "#filtering out sexualorientation on generalhealth filtered data\n",
    "genh_s_df = genh_df[genh_df['IntRsn_SharedSocNet']>0]\n",
    "print(genh_s_df.shape)  #(5003, 348)\n",
    "genh_s_df.groupby(['ConfidentGetHealthInf','IntRsn_SharedSocNet']).count()\n"
   ]
  },
  {
   "cell_type": "code",
   "execution_count": 0,
   "metadata": {
    "colab": {
     "base_uri": "https://localhost:8080/",
     "height": 477
    },
    "colab_type": "code",
    "id": "lgtSzlIyc3sV",
    "outputId": "ba4b2d39-230d-4ff8-ed14-8b10e85f273d"
   },
   "outputs": [
    {
     "data": {
      "text/plain": [
       "<matplotlib.axes._subplots.AxesSubplot at 0x7f69469bedd8>"
      ]
     },
     "execution_count": 18,
     "metadata": {
      "tags": []
     },
     "output_type": "execute_result"
    },
    {
     "data": {
      "image/png": "[encoded data removed]",
      "text/plain": [
       "<Figure size 1080x504 with 1 Axes>"
      ]
     },
     "metadata": {
      "tags": []
     },
     "output_type": "display_data"
    }
   ],
   "source": [
    "temp = genh_s_df[['ConfidentGetHealthInf','SeekHealthInfo','IntRsn_SharedSocNet']]\n",
    "temp.groupby(['ConfidentGetHealthInf','IntRsn_SharedSocNet']).count().plot(kind='bar', figsize = (15,7))"
   ]
  },
  {
   "cell_type": "code",
   "execution_count": 0,
   "metadata": {
    "colab": {
     "base_uri": "https://localhost:8080/",
     "height": 34
    },
    "colab_type": "code",
    "id": "lO4uKO6-ixSM",
    "outputId": "69fc20b7-2be8-4c37-f6c9-10d88a6a8fd9"
   },
   "outputs": [
    {
     "name": "stdout",
     "output_type": "stream",
     "text": [
      "(5145, 348)\n"
     ]
    }
   ],
   "source": [
    "\n",
    "q3 = new_df[['LittleInterest','Hopeless','Nervous','Worrying']]\n",
    "q3_df = new_df[(new_df['ConfidentGetHealthInf']>0) & (new_df['Hopeless']>0) &\n",
    "                 (new_df['Nervous']>0) & (new_df['Worrying']>0)]\n",
    "print(q3_df.shape)"
   ]
  },
  {
   "cell_type": "code",
   "execution_count": 0,
   "metadata": {
    "colab": {
     "base_uri": "https://localhost:8080/",
     "height": 853
    },
    "colab_type": "code",
    "id": "vd0pwlPmomdh",
    "outputId": "d4856cda-9da7-423f-e3ba-8b1d37decc66"
   },
   "outputs": [
    {
     "name": "stdout",
     "output_type": "stream",
     "text": [
      "(4045, 348)\n",
      "                           HHID  HIGHSPANLI  ...  IncomeFeelings  MAILNUM\n",
      "LittleInterest Frustrated                    ...                         \n",
      "1              1             49          49  ...              49       49\n",
      "               2             50          50  ...              50       50\n",
      "               3             36          36  ...              36       36\n",
      "               4             70          70  ...              70       70\n",
      "2              1             41          41  ...              41       41\n",
      "               2             80          80  ...              80       80\n",
      "               3             62          62  ...              62       62\n",
      "               4             71          71  ...              71       71\n",
      "3              1             84          84  ...              84       84\n",
      "               2            269         269  ...             269      269\n",
      "               3            231         231  ...             231      231\n",
      "               4            314         314  ...             314      314\n",
      "4              1            192         192  ...             192      192\n",
      "               2            571         571  ...             571      571\n",
      "               3            762         762  ...             762      762\n",
      "               4           1163        1163  ...            1163     1163\n",
      "\n",
      "[16 rows x 346 columns]\n"
     ]
    },
    {
     "data": {
      "text/plain": [
       "'\\n      LittleInterest    Frustrated\\n          1                 1,2     99\\n                            3,4     106\\n          2                 1,2     121\\n                            3,4     133\\n          3                 1,2     353\\n                            3,4     545\\n          4                 1,2     763\\n                            3,4     1925\\n\\n          573 (42.22% of the people who had felt Little Interest felt frustrating)\\n              (28.38% of the people who never felt Little Interest felt frustrating)\\n\\n'"
      ]
     },
     "execution_count": 20,
     "metadata": {
      "tags": []
     },
     "output_type": "execute_result"
    },
    {
     "data": {
      "image/png": "[encoded data removed]",
      "text/plain": [
       "<Figure size 1080x504 with 1 Axes>"
      ]
     },
     "metadata": {
      "tags": []
     },
     "output_type": "display_data"
    }
   ],
   "source": [
    "'''\n",
    "\n",
    "LittleInterest\n",
    "    1.Nearly every day      2.More than half the days\n",
    "    3.Several days          4. Not at all\n",
    "\n",
    "Frustrated\n",
    "    1.Strongly agree        2.Somewhat agree\n",
    "    3.Somewhat disagree     4.Strongly disagree\n",
    "'''\n",
    "\n",
    "temp_df = new_df[(new_df['LittleInterest']>0) & (new_df['Frustrated']>0)]\n",
    "print(temp_df.shape)\n",
    "print(temp_df.groupby(['LittleInterest','Frustrated']).count())\n",
    "temp = temp_df[['LittleInterest','SeekHealthInfo','Frustrated']]\n",
    "temp.groupby(['LittleInterest','Frustrated']).count().plot(kind='bar', figsize = (15,7))\n",
    "\n",
    "\n",
    "'''\n",
    "      LittleInterest    Frustrated\n",
    "          1                 1,2     99\n",
    "                            3,4     106\n",
    "          2                 1,2     121\n",
    "                            3,4     133\n",
    "          3                 1,2     353\n",
    "                            3,4     545\n",
    "          4                 1,2     763\n",
    "                            3,4     1925\n",
    "\n",
    "          573 (42.22% of the people who had felt Little Interest felt frustrating)\n",
    "              (28.38% of the people who never felt Little Interest felt frustrating)\n",
    "\n",
    "'''"
   ]
  },
  {
   "cell_type": "code",
   "execution_count": 0,
   "metadata": {
    "colab": {
     "base_uri": "https://localhost:8080/",
     "height": 833
    },
    "colab_type": "code",
    "id": "1PWkod1UnjFm",
    "outputId": "b9d9f336-6692-4e99-dda3-fd12fe14d6e7"
   },
   "outputs": [
    {
     "name": "stdout",
     "output_type": "stream",
     "text": [
      "(4039, 348)\n",
      "                     HHID  HIGHSPANLI  ...  IncomeFeelings  MAILNUM\n",
      "Hopeless Frustrated                    ...                         \n",
      "1        1             40          40  ...              40       40\n",
      "         2             36          36  ...              36       36\n",
      "         3             30          30  ...              30       30\n",
      "         4             44          44  ...              44       44\n",
      "2        1             45          45  ...              45       45\n",
      "         2             63          63  ...              63       63\n",
      "         3             45          45  ...              45       45\n",
      "         4             66          66  ...              66       66\n",
      "3        1             83          83  ...              83       83\n",
      "         2            239         239  ...             239      239\n",
      "         3            219         219  ...             219      219\n",
      "         4            275         275  ...             275      275\n",
      "4        1            198         198  ...             198      198\n",
      "         2            632         632  ...             632      632\n",
      "         3            793         793  ...             793      793\n",
      "         4           1231        1231  ...            1231     1231\n",
      "\n",
      "[16 rows x 346 columns]\n"
     ]
    },
    {
     "data": {
      "text/plain": [
       "<matplotlib.axes._subplots.AxesSubplot at 0x7f69468aed68>"
      ]
     },
     "execution_count": 21,
     "metadata": {
      "tags": []
     },
     "output_type": "execute_result"
    },
    {
     "data": {
      "image/png": "[encoded data removed]",
      "text/plain": [
       "<Figure size 1080x504 with 1 Axes>"
      ]
     },
     "metadata": {
      "tags": []
     },
     "output_type": "display_data"
    }
   ],
   "source": [
    "temp_df = new_df[(new_df['Hopeless']>0) & (new_df['Frustrated']>0)]\n",
    "print(temp_df.shape)\n",
    "print(temp_df.groupby(['Hopeless','Frustrated']).count())\n",
    "temp = temp_df[['Hopeless','SeekHealthInfo','Frustrated']]\n",
    "temp.groupby(['Hopeless','Frustrated']).count().plot(kind='bar', figsize = (15,7))"
   ]
  },
  {
   "cell_type": "code",
   "execution_count": 0,
   "metadata": {
    "colab": {
     "base_uri": "https://localhost:8080/",
     "height": 833
    },
    "colab_type": "code",
    "id": "OtVpUGJeqGw6",
    "outputId": "caa5ddca-09c6-4644-8625-c852f03bdae0"
   },
   "outputs": [
    {
     "name": "stdout",
     "output_type": "stream",
     "text": [
      "(4039, 348)\n",
      "                    HHID  HIGHSPANLI  ...  IncomeFeelings  MAILNUM\n",
      "Nervous Frustrated                    ...                         \n",
      "1       1             38          38  ...              38       38\n",
      "        2             40          40  ...              40       40\n",
      "        3             37          37  ...              37       37\n",
      "        4             52          52  ...              52       52\n",
      "2       1             51          51  ...              51       51\n",
      "        2             89          89  ...              89       89\n",
      "        3             49          49  ...              49       49\n",
      "        4             74          74  ...              74       74\n",
      "3       1             97          97  ...              97       97\n",
      "        2            313         313  ...             313      313\n",
      "        3            310         310  ...             310      310\n",
      "        4            387         387  ...             387      387\n",
      "4       1            181         181  ...             181      181\n",
      "        2            525         525  ...             525      525\n",
      "        3            690         690  ...             690      690\n",
      "        4           1106        1106  ...            1106     1106\n",
      "\n",
      "[16 rows x 346 columns]\n"
     ]
    },
    {
     "data": {
      "text/plain": [
       "<matplotlib.axes._subplots.AxesSubplot at 0x7f6946944940>"
      ]
     },
     "execution_count": 22,
     "metadata": {
      "tags": []
     },
     "output_type": "execute_result"
    },
    {
     "data": {
      "image/png": "[encoded data removed]",
      "text/plain": [
       "<Figure size 1080x504 with 1 Axes>"
      ]
     },
     "metadata": {
      "tags": []
     },
     "output_type": "display_data"
    }
   ],
   "source": [
    "temp_df = new_df[(new_df['Nervous']>0) & (new_df['Frustrated']>0)]\n",
    "print(temp_df.shape)\n",
    "print(temp_df.groupby(['Nervous','Frustrated']).count())\n",
    "temp = temp_df[['Nervous','SeekHealthInfo','Frustrated']]\n",
    "temp.groupby(['Nervous','Frustrated']).count().plot(kind='bar', figsize = (15,7))"
   ]
  },
  {
   "cell_type": "code",
   "execution_count": 0,
   "metadata": {
    "colab": {
     "base_uri": "https://localhost:8080/",
     "height": 833
    },
    "colab_type": "code",
    "id": "zNvxxdCLiHxb",
    "outputId": "6dda57d1-b0f4-419b-fda1-633208eddb5b"
   },
   "outputs": [
    {
     "name": "stdout",
     "output_type": "stream",
     "text": [
      "(4033, 348)\n",
      "                     HHID  HIGHSPANLI  ...  IncomeFeelings  MAILNUM\n",
      "Worrying Frustrated                    ...                         \n",
      "1        1             47          47  ...              47       47\n",
      "         2             43          43  ...              43       43\n",
      "         3             33          33  ...              33       33\n",
      "         4             52          52  ...              52       52\n",
      "2        1             43          43  ...              43       43\n",
      "         2             76          76  ...              76       76\n",
      "         3             49          49  ...              49       49\n",
      "         4             51          51  ...              51       51\n",
      "3        1             81          81  ...              81       81\n",
      "         2            250         250  ...             250      250\n",
      "         3            216         216  ...             216      216\n",
      "         4            260         260  ...             260      260\n",
      "4        1            194         194  ...             194      194\n",
      "         2            597         597  ...             597      597\n",
      "         3            789         789  ...             789      789\n",
      "         4           1252        1252  ...            1252     1252\n",
      "\n",
      "[16 rows x 346 columns]\n"
     ]
    },
    {
     "data": {
      "text/plain": [
       "<matplotlib.axes._subplots.AxesSubplot at 0x7f694690ac88>"
      ]
     },
     "execution_count": 23,
     "metadata": {
      "tags": []
     },
     "output_type": "execute_result"
    },
    {
     "data": {
      "image/png": "[encoded data removed]",
      "text/plain": [
       "<Figure size 1080x504 with 1 Axes>"
      ]
     },
     "metadata": {
      "tags": []
     },
     "output_type": "display_data"
    }
   ],
   "source": [
    "temp_df = new_df[(new_df['Worrying']>0) & (new_df['Frustrated']>0)]\n",
    "print(temp_df.shape)\n",
    "print(temp_df.groupby(['Worrying','Frustrated']).count())\n",
    "temp = temp_df[['Worrying','SeekHealthInfo','Frustrated']]\n",
    "temp.groupby(['Worrying','Frustrated']).count().plot(kind='bar', figsize = (15,7))"
   ]
  },
  {
   "cell_type": "code",
   "execution_count": 0,
   "metadata": {
    "colab": {},
    "colab_type": "code",
    "id": "8HZknFhyiUfy"
   },
   "outputs": [],
   "source": []
  }
 ],
 "metadata": {
  "accelerator": "GPU",
  "colab": {
   "collapsed_sections": [],
   "include_colab_link": true,
   "name": "Part_3.ipynb",
   "provenance": []
  },
  "kernelspec": {
   "display_name": "Python 3",
   "language": "python",
   "name": "python3"
  },
  "language_info": {
   "codemirror_mode": {
    "name": "ipython",
    "version": 3
   },
   "file_extension": ".py",
   "mimetype": "text/x-python",
   "name": "python",
   "nbconvert_exporter": "python",
   "pygments_lexer": "ipython3",
   "version": "3.7.4"
  }
 },
 "nbformat": 4,
 "nbformat_minor": 1
}
